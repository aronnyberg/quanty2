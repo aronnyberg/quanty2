{
 "cells": [
  {
   "cell_type": "code",
   "execution_count": null,
   "id": "b4feba91",
   "metadata": {},
   "outputs": [],
   "source": [
    "import pandas as pd\n",
    "import requests\n",
    "from bs4 import BeautifulSoup\n",
    "import bs4\n",
    "import time"
   ]
  },
  {
   "cell_type": "code",
   "execution_count": null,
   "id": "66b06e00-4950-467f-b0ca-cddc270ceac2",
   "metadata": {},
   "outputs": [],
   "source": [
    "headers = {'user-agent': 'Mozilla/5.0 (Windows NT 10.0; Win64; x64) AppleWebKit/537.36 (KHTML, like Gecko) Chrome/75.0.3770.142 Safari/537.36'}\n",
    "\n",
    "#optional specifc run\n",
    "selecttokens = ['CITY', 'LAZIO', 'ATM', 'ASR', 'AFC', 'ACM', 'INTER', 'BAR', 'JUV', 'PSG']\n",
    "\n",
    "matchdays = []\n",
    "tickers = []\n",
    "token_df = pd.read_csv(\"./fanTokens.csv\")\n",
    "token_df = token_df.set_index('ticker').loc[selecttokens].reset_index()\n",
    "token_dict = token_df[['ticker', 'source_ticker', 'source_link']].set_index('ticker').dropna().to_dict()"
   ]
  },
  {
   "cell_type": "code",
   "execution_count": null,
   "id": "1b8fba77",
   "metadata": {},
   "outputs": [],
   "source": [
    "for season in ['2023']:\n",
    "    #links_list = [i.replace('id=2022','id={}'.format(season)) for i in token_dict['source_link'].values()]\n",
    "    for ticker in token_dict['source_link'].keys():\n",
    "        try:\n",
    "            link = token_dict['source_link'][ticker].replace('id=2022', 'id={}'.format(season))\n",
    "            name = token_dict['source_ticker'][ticker]\n",
    "            print(link)\n",
    "            r = requests.get(link, headers=headers)  # Using the custom headers we defined above\n",
    "            soup = bs4.BeautifulSoup(r.text, 'lxml')\n",
    "            for table in soup.find_all(class_='responsive-table'):\n",
    "                for tr in table.find_all('tr'):\n",
    "                    #_, matchday, date, time, venue, ranking, opponent, systemofplay, attendance, result = [td for td in tr.stripped_strings]\n",
    "                    day = [i for i in tr.stripped_strings][1]\n",
    "                    matchdays.append(day)\n",
    "                    tickers.append(ticker)\n",
    "        except:\n",
    "            print(f\"{ticker} failed\")"
   ]
  },
  {
   "cell_type": "code",
   "execution_count": null,
   "id": "759c6466-337e-45a8-b74a-d2ac1d046645",
   "metadata": {},
   "outputs": [],
   "source": [
    "df = pd.DataFrame({'matchdays':matchdays, 'tickers':tickers})"
   ]
  },
  {
   "cell_type": "code",
   "execution_count": null,
   "id": "9e45f6fd-7663-48ec-9d80-50cfe3acc4e4",
   "metadata": {},
   "outputs": [],
   "source": [
    "df[df['matchdays'] != 'Date'].to_csv('matchdays_2023season.csv')"
   ]
  },
  {
   "cell_type": "code",
   "execution_count": null,
   "id": "b1199302-e2ef-4cdc-8516-414cceb727c7",
   "metadata": {},
   "outputs": [],
   "source": [
    "df"
   ]
  },
  {
   "cell_type": "code",
   "execution_count": null,
   "id": "e8b5bbc0-6f53-4aea-acc5-c1188e45333e",
   "metadata": {},
   "outputs": [],
   "source": [
    "token_df"
   ]
  },
  {
   "cell_type": "code",
   "execution_count": null,
   "id": "5e526ba5",
   "metadata": {},
   "outputs": [],
   "source": [
    "token_df.set_index('ticker').loc[selecttokens].reset_index()"
   ]
  },
  {
   "cell_type": "code",
   "execution_count": null,
   "id": "0165f05f",
   "metadata": {},
   "outputs": [],
   "source": []
  }
 ],
 "metadata": {
  "kernelspec": {
   "display_name": "Python 3 (ipykernel)",
   "language": "python",
   "name": "python3"
  },
  "language_info": {
   "codemirror_mode": {
    "name": "ipython",
    "version": 3
   },
   "file_extension": ".py",
   "mimetype": "text/x-python",
   "name": "python",
   "nbconvert_exporter": "python",
   "pygments_lexer": "ipython3",
   "version": "3.9.10"
  }
 },
 "nbformat": 4,
 "nbformat_minor": 5
}
