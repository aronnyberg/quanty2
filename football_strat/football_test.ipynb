{
 "cells": [
  {
   "cell_type": "code",
   "execution_count": null,
   "id": "70ac394b-b070-4557-a23a-b4d8677a7373",
   "metadata": {},
   "outputs": [],
   "source": [
    "import pandas as pd\n",
    "from datetime import datetime\n",
    "import numpy as np"
   ]
  },
  {
   "cell_type": "code",
   "execution_count": null,
   "id": "f029cc29-b093-43eb-80cd-78c6968e7312",
   "metadata": {},
   "outputs": [],
   "source": [
    "#optional 2023 spcific run hashed out\n",
    "\n",
    "df = pd.read_csv('./gateio_data/aggregated_trade_data.csv')\n",
    "#df = pd.read_csv('./gateio_data/aggregated_trade_data_23season.csv')\n",
    "token_lookup = pd.read_csv('./football_strat/fanTokens.csv')\n",
    "#matches_old = pd.read_csv(\"./football_strat/matchdays - Sheet1.csv\")\n",
    "btc_rets = pd.read_csv(\"./gateio_data//btc_daily_rets.csv\")\n",
    "#btc_rets = pd.read_csv(\"./gateio_data/btc_daily_rets_23season.csv\")\n",
    "matches = pd.read_csv(\"./football_strat/matchdays_new.csv\")\n",
    "#matches = pd.read_csv(\"./football_strat/matchdays_2023season.csv\")"
   ]
  },
  {
   "cell_type": "code",
   "execution_count": null,
   "id": "0c55c1a7-69c8-4906-b772-254e29bf9881",
   "metadata": {},
   "outputs": [],
   "source": [
    "\n",
    "#getting 'Club'/name variable into matches df\n",
    "matches['Club'] = matches['tickers'].map(token_lookup[['ticker','Name']].set_index('ticker').to_dict()['Name'])"
   ]
  },
  {
   "cell_type": "code",
   "execution_count": null,
   "id": "a299f875-0ce5-49a0-9a5a-c8785f12d663",
   "metadata": {},
   "outputs": [],
   "source": [
    "df = df.sort_values(['ticker', 'timestamp'])"
   ]
  },
  {
   "cell_type": "code",
   "execution_count": null,
   "id": "7fb84641-97b7-4ff3-8e1c-b926999eef26",
   "metadata": {},
   "outputs": [],
   "source": [
    "token_lookup['ticker'] = [str(i)+\"_USDT\"  for i in token_lookup['ticker']]"
   ]
  },
  {
   "cell_type": "code",
   "execution_count": null,
   "id": "890a9d29-8d74-4bba-951a-9d0450e4e19f",
   "metadata": {},
   "outputs": [],
   "source": [
    "matches['Date'] = matches['matchdays']"
   ]
  },
  {
   "cell_type": "code",
   "execution_count": null,
   "id": "38b6321e-3056-40b7-8463-e16949015ee8",
   "metadata": {},
   "outputs": [],
   "source": [
    "matches = matches[[len(i)>1 for i in matches['Date']]]\n",
    "splits = [i.split(\" \") for i in matches['Date']]\n",
    "months = [datetime.strptime(i[1], '%b').month for i in splits]\n",
    "days = [i[2].split(\",\")[0] for i in splits]\n",
    "years = [i[3].split(\",\")[0] for i in splits]\n",
    "matches['Day'] = days\n",
    "matches['Month'] = months\n",
    "matches['Year'] = years"
   ]
  },
  {
   "cell_type": "code",
   "execution_count": null,
   "id": "161485e7-8cb7-4906-92e4-eaaaf12ad5cb",
   "metadata": {},
   "outputs": [],
   "source": [
    "matches['DateTime'] = matches['Day'].astype(str)+\"/\"+matches['Month'].astype(str)+\"/\"+matches['Year'].astype(str)\n",
    "matches['DateTime'] = pd.to_datetime(matches['DateTime'], format= \"%d/%m/%Y\")\n",
    "matches['MatchDay'] = 1"
   ]
  },
  {
   "cell_type": "code",
   "execution_count": null,
   "id": "7e1506c3-b5ea-417d-8825-720df182e022",
   "metadata": {},
   "outputs": [],
   "source": [
    "matches = matches.set_index('Club').join(token_lookup.set_index('Name'))"
   ]
  },
  {
   "cell_type": "code",
   "execution_count": null,
   "id": "43494bef",
   "metadata": {},
   "outputs": [],
   "source": [
    "btc_rets['timestamp'] = pd.to_datetime(btc_rets['timestamp'])\n",
    "btc_rets.set_index('timestamp',inplace=True)\n",
    "btc_rets.rename(columns={'vwap':'btc'}, inplace=True)\n",
    "btc_rets['btc'] = btc_rets['btc'].rolling(2).sum()"
   ]
  },
  {
   "cell_type": "code",
   "execution_count": null,
   "id": "7411ec09",
   "metadata": {},
   "outputs": [],
   "source": [
    "df['ticker'].drop_duplicates()"
   ]
  },
  {
   "cell_type": "code",
   "execution_count": null,
   "id": "4c2b41de-43ff-41a6-bf6e-d263db3533de",
   "metadata": {},
   "outputs": [],
   "source": [
    "agg_df = pd.DataFrame()\n",
    "for each_club in df['ticker'].drop_duplicates():\n",
    "    \n",
    "    #filter to one club to avoid pct_change between clubs\n",
    "    club_df = df.loc[df['ticker'] == each_club]\n",
    "    club_df['timestamp'] = pd.to_datetime(club_df['timestamp'])\n",
    "    club_df.set_index('timestamp', inplace=True)\n",
    "    club_df = club_df['vwap'].pct_change().resample('d').sum()\n",
    "    returns = pd.DataFrame(club_df.rolling(2).sum())\n",
    "    returns['ticker'] = each_club\n",
    "\n",
    "    #reset index so merge sets it\n",
    "    returns.reset_index(inplace=True)\n",
    "    merge_df = pd.merge(returns, matches,  how='left', left_on=['timestamp','ticker'], right_on = ['DateTime','ticker'])\n",
    "    merge_df = merge_df.dropna(axis=0)\n",
    "    merge_df = merge_df[['timestamp','vwap','ticker']]\n",
    "    \n",
    "    merge_df.set_index('timestamp', inplace=True)\n",
    "    merge_df.drop_duplicates(inplace=True)\n",
    "    \n",
    "    merge_df = pd.concat([merge_df, btc_rets], axis=1)\n",
    "    \n",
    "    agg_df = pd.concat([agg_df, merge_df], axis=0)"
   ]
  },
  {
   "cell_type": "code",
   "execution_count": null,
   "id": "6a4e2347-5dc4-46c3-b320-baf961dc9d04",
   "metadata": {},
   "outputs": [],
   "source": [
    "#+ becuase strategy returns are short returns\n",
    "agg_df['strat_rets'] = agg_df['btc']-agg_df['vwap']"
   ]
  },
  {
   "cell_type": "code",
   "execution_count": null,
   "id": "58a68ede-961f-4a0d-999b-14abdeae8b60",
   "metadata": {},
   "outputs": [],
   "source": [
    "agg_df = agg_df.dropna()"
   ]
  },
  {
   "cell_type": "code",
   "execution_count": null,
   "id": "529b5489",
   "metadata": {},
   "outputs": [],
   "source": [
    "agg_df.sort_index(inplace=True)"
   ]
  },
  {
   "cell_type": "code",
   "execution_count": null,
   "id": "69456d31",
   "metadata": {},
   "outputs": [],
   "source": [
    "agg_df['vwap'].cumsum().plot()"
   ]
  },
  {
   "cell_type": "code",
   "execution_count": null,
   "id": "39c18e80",
   "metadata": {},
   "outputs": [],
   "source": [
    "agg_df[agg_df['ticker'] == 'CITY_USDT']['vwap'].head(40).cumsum().plot()\n",
    "agg_df[agg_df['ticker'] == 'CITY_USDT']['strat_rets'].head(40).cumsum().plot()"
   ]
  },
  {
   "cell_type": "code",
   "execution_count": null,
   "id": "15b28717",
   "metadata": {},
   "outputs": [],
   "source": [
    "agg_df[agg_df['ticker'] == 'CITY_USDT']['vwap'].std()"
   ]
  },
  {
   "cell_type": "code",
   "execution_count": null,
   "id": "c96cab4a",
   "metadata": {},
   "outputs": [],
   "source": [
    "btc_rets.std()"
   ]
  },
  {
   "cell_type": "code",
   "execution_count": null,
   "id": "c4780281",
   "metadata": {},
   "outputs": [],
   "source": [
    "matches[matches['ticker'] == \"CITY_USDT\"].set_index(\"DateTime\").sort_index().tail(170).head(66)"
   ]
  },
  {
   "cell_type": "code",
   "execution_count": null,
   "id": "d13bf9cc",
   "metadata": {},
   "outputs": [],
   "source": [
    "agg_df[agg_df['ticker'] == \"CITY_USDT\"]['strat_rets'].tail(60)"
   ]
  },
  {
   "cell_type": "code",
   "execution_count": null,
   "id": "f5f9351f",
   "metadata": {},
   "outputs": [],
   "source": [
    "(agg_df['vwap']*500).cumsum().plot()"
   ]
  },
  {
   "cell_type": "code",
   "execution_count": null,
   "id": "35797904",
   "metadata": {},
   "outputs": [],
   "source": [
    "agg_df[agg_df['vwap'].abs() > 0.05]['strat_rets'].cumsum().plot()"
   ]
  },
  {
   "cell_type": "code",
   "execution_count": null,
   "id": "07f6fe8b",
   "metadata": {},
   "outputs": [],
   "source": [
    "(agg_df[agg_df['ticker']!='LAZIO_USDT']['vwap']*500).cumsum().plot()"
   ]
  },
  {
   "cell_type": "code",
   "execution_count": null,
   "id": "1979ac4b",
   "metadata": {},
   "outputs": [],
   "source": [
    "matches.index.drop_duplicates()"
   ]
  },
  {
   "cell_type": "code",
   "execution_count": null,
   "id": "8677b7a7",
   "metadata": {},
   "outputs": [],
   "source": [
    "agg_df.groupby('ticker').mean()"
   ]
  },
  {
   "cell_type": "code",
   "execution_count": null,
   "metadata": {},
   "outputs": [],
   "source": [
    "agg_df['strat_rets'].mean()"
   ]
  },
  {
   "cell_type": "code",
   "execution_count": null,
   "id": "78444a27",
   "metadata": {},
   "outputs": [],
   "source": [
    "agg_df.groupby('ticker').std()['vwap']/np.sqrt(agg_df.groupby('ticker').count()['vwap'])"
   ]
  },
  {
   "cell_type": "code",
   "execution_count": null,
   "id": "954edaf5",
   "metadata": {},
   "outputs": [],
   "source": [
    "(agg_df.groupby('ticker').mean()['vwap'])/(agg_df.groupby('ticker').std()['vwap']/np.sqrt(agg_df.groupby('ticker').count()['vwap']))"
   ]
  },
  {
   "cell_type": "code",
   "execution_count": null,
   "id": "37b6ed0b",
   "metadata": {},
   "outputs": [],
   "source": [
    "matches[['DateTime', 'ticker']]"
   ]
  },
  {
   "cell_type": "code",
   "execution_count": null,
   "id": "0eb8662d",
   "metadata": {},
   "outputs": [],
   "source": [
    "agg_df"
   ]
  },
  {
   "cell_type": "code",
   "execution_count": null,
   "id": "23396405",
   "metadata": {},
   "outputs": [],
   "source": []
  },
  {
   "cell_type": "code",
   "execution_count": null,
   "metadata": {},
   "outputs": [],
   "source": []
  }
 ],
 "metadata": {
  "kernelspec": {
   "display_name": "Python 3 (ipykernel)",
   "language": "python",
   "name": "python3"
  },
  "language_info": {
   "codemirror_mode": {
    "name": "ipython",
    "version": 3
   },
   "file_extension": ".py",
   "mimetype": "text/x-python",
   "name": "python",
   "nbconvert_exporter": "python",
   "pygments_lexer": "ipython3",
   "version": "3.9.10"
  }
 },
 "nbformat": 4,
 "nbformat_minor": 5
}
