{
 "cells": [
  {
   "cell_type": "code",
   "execution_count": 1,
   "id": "70ac394b-b070-4557-a23a-b4d8677a7373",
   "metadata": {},
   "outputs": [],
   "source": [
    "import pandas as pd\n",
    "from datetime import datetime\n",
    "import numpy as np"
   ]
  },
  {
   "cell_type": "code",
   "execution_count": 2,
   "id": "f029cc29-b093-43eb-80cd-78c6968e7312",
   "metadata": {},
   "outputs": [],
   "source": [
    "df = pd.read_csv('/Users/aronnyberg/code/quanty2/gateio_data/aggregated_trade_data.csv')\n",
    "#df = pd.read_csv('/Users/aronnyberg/code/quanty2/gateio_data/aggregated_trade_data_23season.csv')\n",
    "token_lookup = pd.read_csv('/Users/aronnyberg/code/quanty2/football_strat/fanTokens.csv')\n",
    "matches_old = pd.read_csv(\"/Users/aronnyberg/code/quanty2/football_strat/matchdays - Sheet1.csv\")\n",
    "btc_rets = pd.read_csv(\"/Users/aronnyberg/code/quanty2/gateio_data//btc_daily_rets.csv\")\n",
    "#btc_rets = pd.read_csv(\"/Users/aronnyberg/code/quanty2/gateio_data/btc_daily_rets_23season.csv\")\n",
    "matches = pd.read_csv(\"/Users/aronnyberg/code/quanty2/football_strat/matchdays_new.csv\")\n",
    "#matches = pd.read_csv(\"/Users/aronnyberg/code/quanty2/football_strat/matchdays_2023season.csv\")"
   ]
  },
  {
   "cell_type": "code",
   "execution_count": 3,
   "id": "0c55c1a7-69c8-4906-b772-254e29bf9881",
   "metadata": {},
   "outputs": [],
   "source": [
    "\n",
    "#getting 'Club'/name variable into matches df\n",
    "matches['Club'] = matches['tickers'].map(token_lookup[['ticker','Name']].set_index('ticker').to_dict()['Name'])"
   ]
  },
  {
   "cell_type": "code",
   "execution_count": 4,
   "id": "8fd588d9-e7f0-4a2d-ba10-3fb696ebf98f",
   "metadata": {},
   "outputs": [
    {
     "data": {
      "text/html": [
       "<div>\n",
       "<style scoped>\n",
       "    .dataframe tbody tr th:only-of-type {\n",
       "        vertical-align: middle;\n",
       "    }\n",
       "\n",
       "    .dataframe tbody tr th {\n",
       "        vertical-align: top;\n",
       "    }\n",
       "\n",
       "    .dataframe thead th {\n",
       "        text-align: right;\n",
       "    }\n",
       "</style>\n",
       "<table border=\"1\" class=\"dataframe\">\n",
       "  <thead>\n",
       "    <tr style=\"text-align: right;\">\n",
       "      <th></th>\n",
       "      <th>timestamp</th>\n",
       "      <th>vwap</th>\n",
       "    </tr>\n",
       "  </thead>\n",
       "  <tbody>\n",
       "    <tr>\n",
       "      <th>0</th>\n",
       "      <td>2018-01-01</td>\n",
       "      <td>-0.020909</td>\n",
       "    </tr>\n",
       "    <tr>\n",
       "      <th>1</th>\n",
       "      <td>2018-01-02</td>\n",
       "      <td>0.030311</td>\n",
       "    </tr>\n",
       "    <tr>\n",
       "      <th>2</th>\n",
       "      <td>2018-01-03</td>\n",
       "      <td>0.075158</td>\n",
       "    </tr>\n",
       "    <tr>\n",
       "      <th>3</th>\n",
       "      <td>2018-01-04</td>\n",
       "      <td>-0.006393</td>\n",
       "    </tr>\n",
       "    <tr>\n",
       "      <th>4</th>\n",
       "      <td>2018-01-05</td>\n",
       "      <td>0.074566</td>\n",
       "    </tr>\n",
       "    <tr>\n",
       "      <th>...</th>\n",
       "      <td>...</td>\n",
       "      <td>...</td>\n",
       "    </tr>\n",
       "    <tr>\n",
       "      <th>2002</th>\n",
       "      <td>2023-06-26</td>\n",
       "      <td>-0.012149</td>\n",
       "    </tr>\n",
       "    <tr>\n",
       "      <th>2003</th>\n",
       "      <td>2023-06-27</td>\n",
       "      <td>0.010533</td>\n",
       "    </tr>\n",
       "    <tr>\n",
       "      <th>2004</th>\n",
       "      <td>2023-06-28</td>\n",
       "      <td>-0.010600</td>\n",
       "    </tr>\n",
       "    <tr>\n",
       "      <th>2005</th>\n",
       "      <td>2023-06-29</td>\n",
       "      <td>0.006773</td>\n",
       "    </tr>\n",
       "    <tr>\n",
       "      <th>2006</th>\n",
       "      <td>2023-06-30</td>\n",
       "      <td>0.000795</td>\n",
       "    </tr>\n",
       "  </tbody>\n",
       "</table>\n",
       "<p>2007 rows × 2 columns</p>\n",
       "</div>"
      ],
      "text/plain": [
       "       timestamp      vwap\n",
       "0     2018-01-01 -0.020909\n",
       "1     2018-01-02  0.030311\n",
       "2     2018-01-03  0.075158\n",
       "3     2018-01-04 -0.006393\n",
       "4     2018-01-05  0.074566\n",
       "...          ...       ...\n",
       "2002  2023-06-26 -0.012149\n",
       "2003  2023-06-27  0.010533\n",
       "2004  2023-06-28 -0.010600\n",
       "2005  2023-06-29  0.006773\n",
       "2006  2023-06-30  0.000795\n",
       "\n",
       "[2007 rows x 2 columns]"
      ]
     },
     "execution_count": 4,
     "metadata": {},
     "output_type": "execute_result"
    }
   ],
   "source": [
    "#not being used\n",
    "#matches_old = pd.read_csv(\"/Users/aronnyberg/code/quanty2/matchdays - Sheet1.csv\")\n",
    "btc_rets"
   ]
  },
  {
   "cell_type": "code",
   "execution_count": 8,
   "id": "a299f875-0ce5-49a0-9a5a-c8785f12d663",
   "metadata": {},
   "outputs": [],
   "source": [
    "df = df.sort_values(['ticker', 'timestamp'])\n",
    "#df.set_index('timestamp', inplace=True)"
   ]
  },
  {
   "cell_type": "code",
   "execution_count": 9,
   "id": "7fb84641-97b7-4ff3-8e1c-b926999eef26",
   "metadata": {},
   "outputs": [],
   "source": [
    "token_lookup['ticker'] = [str(i)+\"_USDT\"  for i in token_lookup['ticker']]"
   ]
  },
  {
   "cell_type": "code",
   "execution_count": 10,
   "id": "890a9d29-8d74-4bba-951a-9d0450e4e19f",
   "metadata": {},
   "outputs": [],
   "source": [
    "matches['Date'] = matches['matchdays']\n",
    "#matches['matchdays']"
   ]
  },
  {
   "cell_type": "code",
   "execution_count": 11,
   "id": "38b6321e-3056-40b7-8463-e16949015ee8",
   "metadata": {},
   "outputs": [],
   "source": [
    "matches = matches[[len(i)>1 for i in matches['Date']]]\n",
    "splits = [i.split(\" \") for i in matches['Date']]\n",
    "months = [datetime.strptime(i[1], '%b').month for i in splits]\n",
    "days = [i[2].split(\",\")[0] for i in splits]\n",
    "years = [i[3].split(\",\")[0] for i in splits]\n",
    "matches['Day'] = days\n",
    "matches['Month'] = months\n",
    "matches['Year'] = years"
   ]
  },
  {
   "cell_type": "code",
   "execution_count": 12,
   "id": "161485e7-8cb7-4906-92e4-eaaaf12ad5cb",
   "metadata": {},
   "outputs": [],
   "source": [
    "matches['DateTime'] = matches['Day'].astype(str)+\"/\"+matches['Month'].astype(str)+\"/\"+matches['Year'].astype(str)\n",
    "matches['DateTime'] = pd.to_datetime(matches['DateTime'], format= \"%d/%m/%Y\")\n",
    "matches['MatchDay'] = 1"
   ]
  },
  {
   "cell_type": "code",
   "execution_count": 13,
   "id": "7e1506c3-b5ea-417d-8825-720df182e022",
   "metadata": {},
   "outputs": [],
   "source": [
    "matches = matches.set_index('Club').join(token_lookup.set_index('Name'))"
   ]
  },
  {
   "cell_type": "code",
   "execution_count": 14,
   "id": "43494bef",
   "metadata": {},
   "outputs": [],
   "source": [
    "btc_rets['timestamp'] = pd.to_datetime(btc_rets['timestamp'])\n",
    "btc_rets.set_index('timestamp',inplace=True)\n",
    "btc_rets.rename(columns={'vwap':'btc'}, inplace=True)\n",
    "btc_rets['btc'] = btc_rets['btc'].rolling(2).sum()"
   ]
  },
  {
   "cell_type": "code",
   "execution_count": 19,
   "id": "7411ec09",
   "metadata": {},
   "outputs": [
    {
     "data": {
      "text/plain": [
       "6493625        ACM_USDT\n",
       "19599625       AFC_USDT\n",
       "22717763       ALA_USDT\n",
       "19762718        AM_USDT\n",
       "13384310       ARG_USDT\n",
       "11057520       ASM_USDT\n",
       "6686946        ASR_USDT\n",
       "17250780     ATLAS_USDT\n",
       "5582121        ATM_USDT\n",
       "15388341       BFC_USDT\n",
       "4211892       CITY_USDT\n",
       "18165661       FOR_USDT\n",
       "11894489    GALFAN_USDT\n",
       "8262791       GALO_USDT\n",
       "11367294       GOZ_USDT\n",
       "17795535      IBFK_USDT\n",
       "3181420      INTER_USDT\n",
       "12231339       JUV_USDT\n",
       "15193386     LAZIO_USDT\n",
       "11994131       LEV_USDT\n",
       "20034579     MENGO_USDT\n",
       "12613214       NAP_USDT\n",
       "4956882       NAVI_USDT\n",
       "13929322        OG_USDT\n",
       "13921379     PORTO_USDT\n",
       "2012165        POR_USDT\n",
       "11435513       PSG_USDT\n",
       "20140268       RFT_USDT\n",
       "6505531     SANTOS_USDT\n",
       "19953473    SAUBER_USDT\n",
       "23160959      SCCP_USDT\n",
       "15253576       SFP_USDT\n",
       "21942928      SPFC_USDT\n",
       "8547210        TRA_USDT\n",
       "Name: ticker, dtype: object"
      ]
     },
     "execution_count": 19,
     "metadata": {},
     "output_type": "execute_result"
    }
   ],
   "source": [
    "df['ticker'].drop_duplicates()"
   ]
  },
  {
   "cell_type": "code",
   "execution_count": 20,
   "id": "4c2b41de-43ff-41a6-bf6e-d263db3533de",
   "metadata": {},
   "outputs": [
    {
     "name": "stderr",
     "output_type": "stream",
     "text": [
      "/var/folders/jq/bnrgxd_s43d7nggw471h_rtm0000gn/T/ipykernel_1633/2522852575.py:6: SettingWithCopyWarning: \n",
      "A value is trying to be set on a copy of a slice from a DataFrame.\n",
      "Try using .loc[row_indexer,col_indexer] = value instead\n",
      "\n",
      "See the caveats in the documentation: https://pandas.pydata.org/pandas-docs/stable/user_guide/indexing.html#returning-a-view-versus-a-copy\n",
      "  club_df['timestamp'] = pd.to_datetime(club_df['timestamp'])\n",
      "/var/folders/jq/bnrgxd_s43d7nggw471h_rtm0000gn/T/ipykernel_1633/2522852575.py:6: SettingWithCopyWarning: \n",
      "A value is trying to be set on a copy of a slice from a DataFrame.\n",
      "Try using .loc[row_indexer,col_indexer] = value instead\n",
      "\n",
      "See the caveats in the documentation: https://pandas.pydata.org/pandas-docs/stable/user_guide/indexing.html#returning-a-view-versus-a-copy\n",
      "  club_df['timestamp'] = pd.to_datetime(club_df['timestamp'])\n",
      "/var/folders/jq/bnrgxd_s43d7nggw471h_rtm0000gn/T/ipykernel_1633/2522852575.py:6: SettingWithCopyWarning: \n",
      "A value is trying to be set on a copy of a slice from a DataFrame.\n",
      "Try using .loc[row_indexer,col_indexer] = value instead\n",
      "\n",
      "See the caveats in the documentation: https://pandas.pydata.org/pandas-docs/stable/user_guide/indexing.html#returning-a-view-versus-a-copy\n",
      "  club_df['timestamp'] = pd.to_datetime(club_df['timestamp'])\n",
      "/var/folders/jq/bnrgxd_s43d7nggw471h_rtm0000gn/T/ipykernel_1633/2522852575.py:6: SettingWithCopyWarning: \n",
      "A value is trying to be set on a copy of a slice from a DataFrame.\n",
      "Try using .loc[row_indexer,col_indexer] = value instead\n",
      "\n",
      "See the caveats in the documentation: https://pandas.pydata.org/pandas-docs/stable/user_guide/indexing.html#returning-a-view-versus-a-copy\n",
      "  club_df['timestamp'] = pd.to_datetime(club_df['timestamp'])\n",
      "/var/folders/jq/bnrgxd_s43d7nggw471h_rtm0000gn/T/ipykernel_1633/2522852575.py:6: SettingWithCopyWarning: \n",
      "A value is trying to be set on a copy of a slice from a DataFrame.\n",
      "Try using .loc[row_indexer,col_indexer] = value instead\n",
      "\n",
      "See the caveats in the documentation: https://pandas.pydata.org/pandas-docs/stable/user_guide/indexing.html#returning-a-view-versus-a-copy\n",
      "  club_df['timestamp'] = pd.to_datetime(club_df['timestamp'])\n",
      "/var/folders/jq/bnrgxd_s43d7nggw471h_rtm0000gn/T/ipykernel_1633/2522852575.py:6: SettingWithCopyWarning: \n",
      "A value is trying to be set on a copy of a slice from a DataFrame.\n",
      "Try using .loc[row_indexer,col_indexer] = value instead\n",
      "\n",
      "See the caveats in the documentation: https://pandas.pydata.org/pandas-docs/stable/user_guide/indexing.html#returning-a-view-versus-a-copy\n",
      "  club_df['timestamp'] = pd.to_datetime(club_df['timestamp'])\n",
      "/var/folders/jq/bnrgxd_s43d7nggw471h_rtm0000gn/T/ipykernel_1633/2522852575.py:6: SettingWithCopyWarning: \n",
      "A value is trying to be set on a copy of a slice from a DataFrame.\n",
      "Try using .loc[row_indexer,col_indexer] = value instead\n",
      "\n",
      "See the caveats in the documentation: https://pandas.pydata.org/pandas-docs/stable/user_guide/indexing.html#returning-a-view-versus-a-copy\n",
      "  club_df['timestamp'] = pd.to_datetime(club_df['timestamp'])\n",
      "/var/folders/jq/bnrgxd_s43d7nggw471h_rtm0000gn/T/ipykernel_1633/2522852575.py:6: SettingWithCopyWarning: \n",
      "A value is trying to be set on a copy of a slice from a DataFrame.\n",
      "Try using .loc[row_indexer,col_indexer] = value instead\n",
      "\n",
      "See the caveats in the documentation: https://pandas.pydata.org/pandas-docs/stable/user_guide/indexing.html#returning-a-view-versus-a-copy\n",
      "  club_df['timestamp'] = pd.to_datetime(club_df['timestamp'])\n",
      "/var/folders/jq/bnrgxd_s43d7nggw471h_rtm0000gn/T/ipykernel_1633/2522852575.py:6: SettingWithCopyWarning: \n",
      "A value is trying to be set on a copy of a slice from a DataFrame.\n",
      "Try using .loc[row_indexer,col_indexer] = value instead\n",
      "\n",
      "See the caveats in the documentation: https://pandas.pydata.org/pandas-docs/stable/user_guide/indexing.html#returning-a-view-versus-a-copy\n",
      "  club_df['timestamp'] = pd.to_datetime(club_df['timestamp'])\n",
      "/var/folders/jq/bnrgxd_s43d7nggw471h_rtm0000gn/T/ipykernel_1633/2522852575.py:6: SettingWithCopyWarning: \n",
      "A value is trying to be set on a copy of a slice from a DataFrame.\n",
      "Try using .loc[row_indexer,col_indexer] = value instead\n",
      "\n",
      "See the caveats in the documentation: https://pandas.pydata.org/pandas-docs/stable/user_guide/indexing.html#returning-a-view-versus-a-copy\n",
      "  club_df['timestamp'] = pd.to_datetime(club_df['timestamp'])\n",
      "/var/folders/jq/bnrgxd_s43d7nggw471h_rtm0000gn/T/ipykernel_1633/2522852575.py:6: SettingWithCopyWarning: \n",
      "A value is trying to be set on a copy of a slice from a DataFrame.\n",
      "Try using .loc[row_indexer,col_indexer] = value instead\n",
      "\n",
      "See the caveats in the documentation: https://pandas.pydata.org/pandas-docs/stable/user_guide/indexing.html#returning-a-view-versus-a-copy\n",
      "  club_df['timestamp'] = pd.to_datetime(club_df['timestamp'])\n",
      "/var/folders/jq/bnrgxd_s43d7nggw471h_rtm0000gn/T/ipykernel_1633/2522852575.py:6: SettingWithCopyWarning: \n",
      "A value is trying to be set on a copy of a slice from a DataFrame.\n",
      "Try using .loc[row_indexer,col_indexer] = value instead\n",
      "\n",
      "See the caveats in the documentation: https://pandas.pydata.org/pandas-docs/stable/user_guide/indexing.html#returning-a-view-versus-a-copy\n",
      "  club_df['timestamp'] = pd.to_datetime(club_df['timestamp'])\n",
      "/var/folders/jq/bnrgxd_s43d7nggw471h_rtm0000gn/T/ipykernel_1633/2522852575.py:6: SettingWithCopyWarning: \n",
      "A value is trying to be set on a copy of a slice from a DataFrame.\n",
      "Try using .loc[row_indexer,col_indexer] = value instead\n",
      "\n",
      "See the caveats in the documentation: https://pandas.pydata.org/pandas-docs/stable/user_guide/indexing.html#returning-a-view-versus-a-copy\n",
      "  club_df['timestamp'] = pd.to_datetime(club_df['timestamp'])\n",
      "/var/folders/jq/bnrgxd_s43d7nggw471h_rtm0000gn/T/ipykernel_1633/2522852575.py:6: SettingWithCopyWarning: \n",
      "A value is trying to be set on a copy of a slice from a DataFrame.\n",
      "Try using .loc[row_indexer,col_indexer] = value instead\n",
      "\n",
      "See the caveats in the documentation: https://pandas.pydata.org/pandas-docs/stable/user_guide/indexing.html#returning-a-view-versus-a-copy\n",
      "  club_df['timestamp'] = pd.to_datetime(club_df['timestamp'])\n",
      "/var/folders/jq/bnrgxd_s43d7nggw471h_rtm0000gn/T/ipykernel_1633/2522852575.py:6: SettingWithCopyWarning: \n",
      "A value is trying to be set on a copy of a slice from a DataFrame.\n",
      "Try using .loc[row_indexer,col_indexer] = value instead\n",
      "\n",
      "See the caveats in the documentation: https://pandas.pydata.org/pandas-docs/stable/user_guide/indexing.html#returning-a-view-versus-a-copy\n",
      "  club_df['timestamp'] = pd.to_datetime(club_df['timestamp'])\n",
      "/var/folders/jq/bnrgxd_s43d7nggw471h_rtm0000gn/T/ipykernel_1633/2522852575.py:6: SettingWithCopyWarning: \n",
      "A value is trying to be set on a copy of a slice from a DataFrame.\n",
      "Try using .loc[row_indexer,col_indexer] = value instead\n",
      "\n",
      "See the caveats in the documentation: https://pandas.pydata.org/pandas-docs/stable/user_guide/indexing.html#returning-a-view-versus-a-copy\n",
      "  club_df['timestamp'] = pd.to_datetime(club_df['timestamp'])\n",
      "/var/folders/jq/bnrgxd_s43d7nggw471h_rtm0000gn/T/ipykernel_1633/2522852575.py:6: SettingWithCopyWarning: \n",
      "A value is trying to be set on a copy of a slice from a DataFrame.\n",
      "Try using .loc[row_indexer,col_indexer] = value instead\n",
      "\n",
      "See the caveats in the documentation: https://pandas.pydata.org/pandas-docs/stable/user_guide/indexing.html#returning-a-view-versus-a-copy\n",
      "  club_df['timestamp'] = pd.to_datetime(club_df['timestamp'])\n",
      "/var/folders/jq/bnrgxd_s43d7nggw471h_rtm0000gn/T/ipykernel_1633/2522852575.py:6: SettingWithCopyWarning: \n",
      "A value is trying to be set on a copy of a slice from a DataFrame.\n",
      "Try using .loc[row_indexer,col_indexer] = value instead\n",
      "\n",
      "See the caveats in the documentation: https://pandas.pydata.org/pandas-docs/stable/user_guide/indexing.html#returning-a-view-versus-a-copy\n",
      "  club_df['timestamp'] = pd.to_datetime(club_df['timestamp'])\n",
      "/var/folders/jq/bnrgxd_s43d7nggw471h_rtm0000gn/T/ipykernel_1633/2522852575.py:6: SettingWithCopyWarning: \n",
      "A value is trying to be set on a copy of a slice from a DataFrame.\n",
      "Try using .loc[row_indexer,col_indexer] = value instead\n",
      "\n",
      "See the caveats in the documentation: https://pandas.pydata.org/pandas-docs/stable/user_guide/indexing.html#returning-a-view-versus-a-copy\n",
      "  club_df['timestamp'] = pd.to_datetime(club_df['timestamp'])\n",
      "/var/folders/jq/bnrgxd_s43d7nggw471h_rtm0000gn/T/ipykernel_1633/2522852575.py:6: SettingWithCopyWarning: \n",
      "A value is trying to be set on a copy of a slice from a DataFrame.\n",
      "Try using .loc[row_indexer,col_indexer] = value instead\n",
      "\n",
      "See the caveats in the documentation: https://pandas.pydata.org/pandas-docs/stable/user_guide/indexing.html#returning-a-view-versus-a-copy\n",
      "  club_df['timestamp'] = pd.to_datetime(club_df['timestamp'])\n",
      "/var/folders/jq/bnrgxd_s43d7nggw471h_rtm0000gn/T/ipykernel_1633/2522852575.py:6: SettingWithCopyWarning: \n",
      "A value is trying to be set on a copy of a slice from a DataFrame.\n",
      "Try using .loc[row_indexer,col_indexer] = value instead\n",
      "\n",
      "See the caveats in the documentation: https://pandas.pydata.org/pandas-docs/stable/user_guide/indexing.html#returning-a-view-versus-a-copy\n",
      "  club_df['timestamp'] = pd.to_datetime(club_df['timestamp'])\n",
      "/var/folders/jq/bnrgxd_s43d7nggw471h_rtm0000gn/T/ipykernel_1633/2522852575.py:6: SettingWithCopyWarning: \n",
      "A value is trying to be set on a copy of a slice from a DataFrame.\n",
      "Try using .loc[row_indexer,col_indexer] = value instead\n",
      "\n",
      "See the caveats in the documentation: https://pandas.pydata.org/pandas-docs/stable/user_guide/indexing.html#returning-a-view-versus-a-copy\n",
      "  club_df['timestamp'] = pd.to_datetime(club_df['timestamp'])\n",
      "/var/folders/jq/bnrgxd_s43d7nggw471h_rtm0000gn/T/ipykernel_1633/2522852575.py:6: SettingWithCopyWarning: \n",
      "A value is trying to be set on a copy of a slice from a DataFrame.\n",
      "Try using .loc[row_indexer,col_indexer] = value instead\n",
      "\n",
      "See the caveats in the documentation: https://pandas.pydata.org/pandas-docs/stable/user_guide/indexing.html#returning-a-view-versus-a-copy\n",
      "  club_df['timestamp'] = pd.to_datetime(club_df['timestamp'])\n",
      "/var/folders/jq/bnrgxd_s43d7nggw471h_rtm0000gn/T/ipykernel_1633/2522852575.py:6: SettingWithCopyWarning: \n",
      "A value is trying to be set on a copy of a slice from a DataFrame.\n",
      "Try using .loc[row_indexer,col_indexer] = value instead\n",
      "\n",
      "See the caveats in the documentation: https://pandas.pydata.org/pandas-docs/stable/user_guide/indexing.html#returning-a-view-versus-a-copy\n",
      "  club_df['timestamp'] = pd.to_datetime(club_df['timestamp'])\n",
      "/var/folders/jq/bnrgxd_s43d7nggw471h_rtm0000gn/T/ipykernel_1633/2522852575.py:6: SettingWithCopyWarning: \n",
      "A value is trying to be set on a copy of a slice from a DataFrame.\n",
      "Try using .loc[row_indexer,col_indexer] = value instead\n",
      "\n",
      "See the caveats in the documentation: https://pandas.pydata.org/pandas-docs/stable/user_guide/indexing.html#returning-a-view-versus-a-copy\n",
      "  club_df['timestamp'] = pd.to_datetime(club_df['timestamp'])\n",
      "/var/folders/jq/bnrgxd_s43d7nggw471h_rtm0000gn/T/ipykernel_1633/2522852575.py:6: SettingWithCopyWarning: \n",
      "A value is trying to be set on a copy of a slice from a DataFrame.\n",
      "Try using .loc[row_indexer,col_indexer] = value instead\n",
      "\n",
      "See the caveats in the documentation: https://pandas.pydata.org/pandas-docs/stable/user_guide/indexing.html#returning-a-view-versus-a-copy\n",
      "  club_df['timestamp'] = pd.to_datetime(club_df['timestamp'])\n",
      "/var/folders/jq/bnrgxd_s43d7nggw471h_rtm0000gn/T/ipykernel_1633/2522852575.py:6: SettingWithCopyWarning: \n",
      "A value is trying to be set on a copy of a slice from a DataFrame.\n",
      "Try using .loc[row_indexer,col_indexer] = value instead\n",
      "\n",
      "See the caveats in the documentation: https://pandas.pydata.org/pandas-docs/stable/user_guide/indexing.html#returning-a-view-versus-a-copy\n",
      "  club_df['timestamp'] = pd.to_datetime(club_df['timestamp'])\n",
      "/var/folders/jq/bnrgxd_s43d7nggw471h_rtm0000gn/T/ipykernel_1633/2522852575.py:6: SettingWithCopyWarning: \n",
      "A value is trying to be set on a copy of a slice from a DataFrame.\n",
      "Try using .loc[row_indexer,col_indexer] = value instead\n",
      "\n",
      "See the caveats in the documentation: https://pandas.pydata.org/pandas-docs/stable/user_guide/indexing.html#returning-a-view-versus-a-copy\n",
      "  club_df['timestamp'] = pd.to_datetime(club_df['timestamp'])\n",
      "/var/folders/jq/bnrgxd_s43d7nggw471h_rtm0000gn/T/ipykernel_1633/2522852575.py:6: SettingWithCopyWarning: \n",
      "A value is trying to be set on a copy of a slice from a DataFrame.\n",
      "Try using .loc[row_indexer,col_indexer] = value instead\n",
      "\n",
      "See the caveats in the documentation: https://pandas.pydata.org/pandas-docs/stable/user_guide/indexing.html#returning-a-view-versus-a-copy\n",
      "  club_df['timestamp'] = pd.to_datetime(club_df['timestamp'])\n",
      "/var/folders/jq/bnrgxd_s43d7nggw471h_rtm0000gn/T/ipykernel_1633/2522852575.py:6: SettingWithCopyWarning: \n",
      "A value is trying to be set on a copy of a slice from a DataFrame.\n",
      "Try using .loc[row_indexer,col_indexer] = value instead\n",
      "\n",
      "See the caveats in the documentation: https://pandas.pydata.org/pandas-docs/stable/user_guide/indexing.html#returning-a-view-versus-a-copy\n",
      "  club_df['timestamp'] = pd.to_datetime(club_df['timestamp'])\n",
      "/var/folders/jq/bnrgxd_s43d7nggw471h_rtm0000gn/T/ipykernel_1633/2522852575.py:6: SettingWithCopyWarning: \n",
      "A value is trying to be set on a copy of a slice from a DataFrame.\n",
      "Try using .loc[row_indexer,col_indexer] = value instead\n",
      "\n",
      "See the caveats in the documentation: https://pandas.pydata.org/pandas-docs/stable/user_guide/indexing.html#returning-a-view-versus-a-copy\n",
      "  club_df['timestamp'] = pd.to_datetime(club_df['timestamp'])\n",
      "/var/folders/jq/bnrgxd_s43d7nggw471h_rtm0000gn/T/ipykernel_1633/2522852575.py:6: SettingWithCopyWarning: \n",
      "A value is trying to be set on a copy of a slice from a DataFrame.\n",
      "Try using .loc[row_indexer,col_indexer] = value instead\n",
      "\n",
      "See the caveats in the documentation: https://pandas.pydata.org/pandas-docs/stable/user_guide/indexing.html#returning-a-view-versus-a-copy\n",
      "  club_df['timestamp'] = pd.to_datetime(club_df['timestamp'])\n",
      "/var/folders/jq/bnrgxd_s43d7nggw471h_rtm0000gn/T/ipykernel_1633/2522852575.py:6: SettingWithCopyWarning: \n",
      "A value is trying to be set on a copy of a slice from a DataFrame.\n",
      "Try using .loc[row_indexer,col_indexer] = value instead\n",
      "\n",
      "See the caveats in the documentation: https://pandas.pydata.org/pandas-docs/stable/user_guide/indexing.html#returning-a-view-versus-a-copy\n",
      "  club_df['timestamp'] = pd.to_datetime(club_df['timestamp'])\n",
      "/var/folders/jq/bnrgxd_s43d7nggw471h_rtm0000gn/T/ipykernel_1633/2522852575.py:6: SettingWithCopyWarning: \n",
      "A value is trying to be set on a copy of a slice from a DataFrame.\n",
      "Try using .loc[row_indexer,col_indexer] = value instead\n",
      "\n",
      "See the caveats in the documentation: https://pandas.pydata.org/pandas-docs/stable/user_guide/indexing.html#returning-a-view-versus-a-copy\n",
      "  club_df['timestamp'] = pd.to_datetime(club_df['timestamp'])\n"
     ]
    }
   ],
   "source": [
    "agg_df = pd.DataFrame()\n",
    "for each_club in df['ticker'].drop_duplicates():\n",
    "    \n",
    "    #filter to one club to avoid pct_change between clubs\n",
    "    club_df = df.loc[df['ticker'] == each_club]\n",
    "    club_df['timestamp'] = pd.to_datetime(club_df['timestamp'])\n",
    "    club_df.set_index('timestamp', inplace=True)\n",
    "    club_df = club_df['vwap'].pct_change().resample('d').sum()\n",
    "    returns = pd.DataFrame(-club_df.rolling(2).sum())\n",
    "    returns['ticker'] = each_club\n",
    "\n",
    "    #reset index so merge sets it\n",
    "    returns.reset_index(inplace=True)\n",
    "    merge_df = pd.merge(returns, matches,  how='left', left_on=['timestamp','ticker'], right_on = ['DateTime','ticker'])\n",
    "    merge_df = merge_df.dropna(axis=0)\n",
    "    merge_df = merge_df[['timestamp','vwap','ticker']]\n",
    "    \n",
    "    merge_df.set_index('timestamp', inplace=True)\n",
    "    merge_df.drop_duplicates(inplace=True)\n",
    "    \n",
    "    merge_df = pd.concat([merge_df, btc_rets], axis=1)\n",
    "    \n",
    "    agg_df = pd.concat([agg_df, merge_df], axis=0)"
   ]
  },
  {
   "cell_type": "code",
   "execution_count": 21,
   "id": "6a4e2347-5dc4-46c3-b320-baf961dc9d04",
   "metadata": {},
   "outputs": [],
   "source": [
    "#+ becuase strategy returns are short returns\n",
    "agg_df['strat_rets'] = agg_df['btc']+agg_df['vwap']"
   ]
  },
  {
   "cell_type": "code",
   "execution_count": 22,
   "id": "58a68ede-961f-4a0d-999b-14abdeae8b60",
   "metadata": {},
   "outputs": [],
   "source": [
    "agg_df = agg_df.dropna()"
   ]
  },
  {
   "cell_type": "code",
   "execution_count": 23,
   "id": "529b5489",
   "metadata": {},
   "outputs": [],
   "source": [
    "agg_df.sort_index(inplace=True)"
   ]
  },
  {
   "cell_type": "code",
   "execution_count": 24,
   "id": "69456d31",
   "metadata": {},
   "outputs": [
    {
     "data": {
      "text/plain": [
       "<AxesSubplot:xlabel='timestamp'>"
      ]
     },
     "execution_count": 24,
     "metadata": {},
     "output_type": "execute_result"
    },
    {
     "data": {
      "image/png": "[encoded data removed]",
      "text/plain": [
       "<Figure size 640x480 with 1 Axes>"
      ]
     },
     "metadata": {},
     "output_type": "display_data"
    }
   ],
   "source": [
    "agg_df['strat_rets'].cumsum().plot()"
   ]
  },
  {
   "cell_type": "code",
   "execution_count": 25,
   "id": "39c18e80",
   "metadata": {},
   "outputs": [
    {
     "data": {
      "text/plain": [
       "<AxesSubplot:xlabel='timestamp'>"
      ]
     },
     "execution_count": 25,
     "metadata": {},
     "output_type": "execute_result"
    },
    {
     "data": {
      "image/png": "[encoded data removed]",
      "text/plain": [
       "<Figure size 640x480 with 1 Axes>"
      ]
     },
     "metadata": {},
     "output_type": "display_data"
    }
   ],
   "source": [
    "agg_df[agg_df['ticker'] == 'CITY_USDT']['vwap'].cumsum().plot()\n",
    "agg_df[agg_df['ticker'] == 'CITY_USDT']['strat_rets'].cumsum().plot()"
   ]
  },
  {
   "cell_type": "code",
   "execution_count": 26,
   "id": "15b28717",
   "metadata": {},
   "outputs": [],
   "source": [
    "# (-agg_df[agg_df['ticker'] == 'CITY_USDT']['vwap'].cumsum()).plot()\n",
    "# agg_df[agg_df['ticker'] == 'CITY_USDT']['btc'].cumsum().plot()"
   ]
  },
  {
   "cell_type": "code",
   "execution_count": 27,
   "id": "c96cab4a",
   "metadata": {},
   "outputs": [
    {
     "data": {
      "text/html": [
       "<div>\n",
       "<style scoped>\n",
       "    .dataframe tbody tr th:only-of-type {\n",
       "        vertical-align: middle;\n",
       "    }\n",
       "\n",
       "    .dataframe tbody tr th {\n",
       "        vertical-align: top;\n",
       "    }\n",
       "\n",
       "    .dataframe thead th {\n",
       "        text-align: right;\n",
       "    }\n",
       "</style>\n",
       "<table border=\"1\" class=\"dataframe\">\n",
       "  <thead>\n",
       "    <tr style=\"text-align: right;\">\n",
       "      <th></th>\n",
       "      <th>vwap</th>\n",
       "      <th>btc</th>\n",
       "      <th>strat_rets</th>\n",
       "    </tr>\n",
       "    <tr>\n",
       "      <th>ticker</th>\n",
       "      <th></th>\n",
       "      <th></th>\n",
       "      <th></th>\n",
       "    </tr>\n",
       "  </thead>\n",
       "  <tbody>\n",
       "    <tr>\n",
       "      <th>ACM_USDT</th>\n",
       "      <td>0.003620</td>\n",
       "      <td>0.003862</td>\n",
       "      <td>0.007482</td>\n",
       "    </tr>\n",
       "    <tr>\n",
       "      <th>AFC_USDT</th>\n",
       "      <td>0.004041</td>\n",
       "      <td>-0.006614</td>\n",
       "      <td>-0.002573</td>\n",
       "    </tr>\n",
       "    <tr>\n",
       "      <th>ASR_USDT</th>\n",
       "      <td>-0.015373</td>\n",
       "      <td>-0.002634</td>\n",
       "      <td>-0.018007</td>\n",
       "    </tr>\n",
       "    <tr>\n",
       "      <th>ATM_USDT</th>\n",
       "      <td>0.005857</td>\n",
       "      <td>0.004931</td>\n",
       "      <td>0.010788</td>\n",
       "    </tr>\n",
       "    <tr>\n",
       "      <th>CITY_USDT</th>\n",
       "      <td>0.001860</td>\n",
       "      <td>-0.000426</td>\n",
       "      <td>0.001434</td>\n",
       "    </tr>\n",
       "    <tr>\n",
       "      <th>INTER_USDT</th>\n",
       "      <td>0.005580</td>\n",
       "      <td>0.002730</td>\n",
       "      <td>0.008310</td>\n",
       "    </tr>\n",
       "    <tr>\n",
       "      <th>LAZIO_USDT</th>\n",
       "      <td>-0.002895</td>\n",
       "      <td>-0.008452</td>\n",
       "      <td>-0.011347</td>\n",
       "    </tr>\n",
       "  </tbody>\n",
       "</table>\n",
       "</div>"
      ],
      "text/plain": [
       "                vwap       btc  strat_rets\n",
       "ticker                                    \n",
       "ACM_USDT    0.003620  0.003862    0.007482\n",
       "AFC_USDT    0.004041 -0.006614   -0.002573\n",
       "ASR_USDT   -0.015373 -0.002634   -0.018007\n",
       "ATM_USDT    0.005857  0.004931    0.010788\n",
       "CITY_USDT   0.001860 -0.000426    0.001434\n",
       "INTER_USDT  0.005580  0.002730    0.008310\n",
       "LAZIO_USDT -0.002895 -0.008452   -0.011347"
      ]
     },
     "execution_count": 27,
     "metadata": {},
     "output_type": "execute_result"
    }
   ],
   "source": [
    "agg_df.groupby('ticker').mean()"
   ]
  },
  {
   "cell_type": "code",
   "execution_count": 28,
   "id": "c4780281",
   "metadata": {},
   "outputs": [
    {
     "data": {
      "text/plain": [
       "-0.000291138106669026"
      ]
     },
     "execution_count": 28,
     "metadata": {},
     "output_type": "execute_result"
    }
   ],
   "source": [
    "agg_df['vwap'].mean()"
   ]
  },
  {
   "cell_type": "code",
   "execution_count": 29,
   "id": "d13bf9cc",
   "metadata": {},
   "outputs": [
    {
     "data": {
      "text/plain": [
       "-0.0019307203588065658"
      ]
     },
     "execution_count": 29,
     "metadata": {},
     "output_type": "execute_result"
    }
   ],
   "source": [
    "agg_df['strat_rets'].mean()"
   ]
  },
  {
   "cell_type": "code",
   "execution_count": 30,
   "id": "f5f9351f",
   "metadata": {},
   "outputs": [
    {
     "data": {
      "text/plain": [
       "<AxesSubplot:xlabel='timestamp'>"
      ]
     },
     "execution_count": 30,
     "metadata": {},
     "output_type": "execute_result"
    },
    {
     "data": {
      "image/png": "[encoded data removed]",
      "text/plain": [
       "<Figure size 640x480 with 1 Axes>"
      ]
     },
     "metadata": {},
     "output_type": "display_data"
    }
   ],
   "source": [
    "(agg_df['vwap']*500).cumsum().plot()"
   ]
  },
  {
   "cell_type": "code",
   "execution_count": 31,
   "id": "35797904",
   "metadata": {},
   "outputs": [
    {
     "data": {
      "text/plain": [
       "<AxesSubplot:xlabel='timestamp'>"
      ]
     },
     "execution_count": 31,
     "metadata": {},
     "output_type": "execute_result"
    },
    {
     "data": {
      "image/png": "[encoded data removed]",
      "text/plain": [
       "<Figure size 640x480 with 1 Axes>"
      ]
     },
     "metadata": {},
     "output_type": "display_data"
    }
   ],
   "source": [
    "agg_df[agg_df['vwap'].abs() > 0.05]['strat_rets'].cumsum().plot()"
   ]
  },
  {
   "cell_type": "code",
   "execution_count": 32,
   "id": "07f6fe8b",
   "metadata": {},
   "outputs": [
    {
     "data": {
      "text/plain": [
       "<AxesSubplot:xlabel='timestamp'>"
      ]
     },
     "execution_count": 32,
     "metadata": {},
     "output_type": "execute_result"
    },
    {
     "data": {
      "image/png": "[encoded data removed]",
      "text/plain": [
       "<Figure size 640x480 with 1 Axes>"
      ]
     },
     "metadata": {},
     "output_type": "display_data"
    }
   ],
   "source": [
    "(agg_df[agg_df['ticker']!='LAZIO_USDT']['vwap']*500).cumsum().plot()"
   ]
  },
  {
   "cell_type": "code",
   "execution_count": 25,
   "id": "1979ac4b",
   "metadata": {},
   "outputs": [
    {
     "data": {
      "text/plain": [
       "Index(['AC Milan', 'Arsenal', 'Athletico Madrid', 'Barcelona', 'Lazio',\n",
       "       'Manchester City', 'Roma'],\n",
       "      dtype='object')"
      ]
     },
     "execution_count": 25,
     "metadata": {},
     "output_type": "execute_result"
    }
   ],
   "source": [
    "matches.index.drop_duplicates()"
   ]
  },
  {
   "cell_type": "code",
   "execution_count": 26,
   "id": "8677b7a7",
   "metadata": {},
   "outputs": [
    {
     "data": {
      "text/html": [
       "<div>\n",
       "<style scoped>\n",
       "    .dataframe tbody tr th:only-of-type {\n",
       "        vertical-align: middle;\n",
       "    }\n",
       "\n",
       "    .dataframe tbody tr th {\n",
       "        vertical-align: top;\n",
       "    }\n",
       "\n",
       "    .dataframe thead th {\n",
       "        text-align: right;\n",
       "    }\n",
       "</style>\n",
       "<table border=\"1\" class=\"dataframe\">\n",
       "  <thead>\n",
       "    <tr style=\"text-align: right;\">\n",
       "      <th></th>\n",
       "      <th>vwap</th>\n",
       "      <th>btc</th>\n",
       "      <th>strat_rets</th>\n",
       "    </tr>\n",
       "    <tr>\n",
       "      <th>ticker</th>\n",
       "      <th></th>\n",
       "      <th></th>\n",
       "      <th></th>\n",
       "    </tr>\n",
       "  </thead>\n",
       "  <tbody>\n",
       "    <tr>\n",
       "      <th>ACM_USDT</th>\n",
       "      <td>-0.013431</td>\n",
       "      <td>-0.003166</td>\n",
       "      <td>-0.016597</td>\n",
       "    </tr>\n",
       "    <tr>\n",
       "      <th>AFC_USDT</th>\n",
       "      <td>0.038141</td>\n",
       "      <td>-0.002948</td>\n",
       "      <td>0.035193</td>\n",
       "    </tr>\n",
       "    <tr>\n",
       "      <th>ASR_USDT</th>\n",
       "      <td>-0.005416</td>\n",
       "      <td>-0.007997</td>\n",
       "      <td>-0.013413</td>\n",
       "    </tr>\n",
       "    <tr>\n",
       "      <th>ATM_USDT</th>\n",
       "      <td>0.022552</td>\n",
       "      <td>-0.003090</td>\n",
       "      <td>0.019461</td>\n",
       "    </tr>\n",
       "    <tr>\n",
       "      <th>CITY_USDT</th>\n",
       "      <td>0.021151</td>\n",
       "      <td>-0.011967</td>\n",
       "      <td>0.009184</td>\n",
       "    </tr>\n",
       "    <tr>\n",
       "      <th>LAZIO_USDT</th>\n",
       "      <td>-0.026477</td>\n",
       "      <td>-0.003277</td>\n",
       "      <td>-0.029754</td>\n",
       "    </tr>\n",
       "  </tbody>\n",
       "</table>\n",
       "</div>"
      ],
      "text/plain": [
       "                vwap       btc  strat_rets\n",
       "ticker                                    \n",
       "ACM_USDT   -0.013431 -0.003166   -0.016597\n",
       "AFC_USDT    0.038141 -0.002948    0.035193\n",
       "ASR_USDT   -0.005416 -0.007997   -0.013413\n",
       "ATM_USDT    0.022552 -0.003090    0.019461\n",
       "CITY_USDT   0.021151 -0.011967    0.009184\n",
       "LAZIO_USDT -0.026477 -0.003277   -0.029754"
      ]
     },
     "execution_count": 26,
     "metadata": {},
     "output_type": "execute_result"
    }
   ],
   "source": [
    "agg_df.groupby('ticker').mean()"
   ]
  },
  {
   "cell_type": "code",
   "execution_count": 27,
   "id": "78444a27",
   "metadata": {},
   "outputs": [
    {
     "ename": "NameError",
     "evalue": "name 'np' is not defined",
     "output_type": "error",
     "traceback": [
      "\u001b[0;31m---------------------------------------------------------------------------\u001b[0m",
      "\u001b[0;31mNameError\u001b[0m                                 Traceback (most recent call last)",
      "Cell \u001b[0;32mIn [27], line 1\u001b[0m\n\u001b[0;32m----> 1\u001b[0m agg_df\u001b[38;5;241m.\u001b[39mgroupby(\u001b[38;5;124m'\u001b[39m\u001b[38;5;124mticker\u001b[39m\u001b[38;5;124m'\u001b[39m)\u001b[38;5;241m.\u001b[39mstd()[\u001b[38;5;124m'\u001b[39m\u001b[38;5;124mvwap\u001b[39m\u001b[38;5;124m'\u001b[39m]\u001b[38;5;241m/\u001b[39m\u001b[43mnp\u001b[49m\u001b[38;5;241m.\u001b[39msqrt(agg_df\u001b[38;5;241m.\u001b[39mgroupby(\u001b[38;5;124m'\u001b[39m\u001b[38;5;124mticker\u001b[39m\u001b[38;5;124m'\u001b[39m)\u001b[38;5;241m.\u001b[39mcount()[\u001b[38;5;124m'\u001b[39m\u001b[38;5;124mvwap\u001b[39m\u001b[38;5;124m'\u001b[39m])\n",
      "\u001b[0;31mNameError\u001b[0m: name 'np' is not defined"
     ]
    }
   ],
   "source": [
    "agg_df.groupby('ticker').std()['vwap']/np.sqrt(agg_df.groupby('ticker').count()['vwap'])"
   ]
  },
  {
   "cell_type": "code",
   "execution_count": 28,
   "id": "954edaf5",
   "metadata": {},
   "outputs": [
    {
     "ename": "NameError",
     "evalue": "name 'np' is not defined",
     "output_type": "error",
     "traceback": [
      "\u001b[0;31m---------------------------------------------------------------------------\u001b[0m",
      "\u001b[0;31mNameError\u001b[0m                                 Traceback (most recent call last)",
      "Cell \u001b[0;32mIn [28], line 1\u001b[0m\n\u001b[0;32m----> 1\u001b[0m (agg_df\u001b[38;5;241m.\u001b[39mgroupby(\u001b[38;5;124m'\u001b[39m\u001b[38;5;124mticker\u001b[39m\u001b[38;5;124m'\u001b[39m)\u001b[38;5;241m.\u001b[39mmean()[\u001b[38;5;124m'\u001b[39m\u001b[38;5;124mvwap\u001b[39m\u001b[38;5;124m'\u001b[39m])\u001b[38;5;241m/\u001b[39m(agg_df\u001b[38;5;241m.\u001b[39mgroupby(\u001b[38;5;124m'\u001b[39m\u001b[38;5;124mticker\u001b[39m\u001b[38;5;124m'\u001b[39m)\u001b[38;5;241m.\u001b[39mstd()[\u001b[38;5;124m'\u001b[39m\u001b[38;5;124mvwap\u001b[39m\u001b[38;5;124m'\u001b[39m]\u001b[38;5;241m/\u001b[39m\u001b[43mnp\u001b[49m\u001b[38;5;241m.\u001b[39msqrt(agg_df\u001b[38;5;241m.\u001b[39mgroupby(\u001b[38;5;124m'\u001b[39m\u001b[38;5;124mticker\u001b[39m\u001b[38;5;124m'\u001b[39m)\u001b[38;5;241m.\u001b[39mcount()[\u001b[38;5;124m'\u001b[39m\u001b[38;5;124mvwap\u001b[39m\u001b[38;5;124m'\u001b[39m]))\n",
      "\u001b[0;31mNameError\u001b[0m: name 'np' is not defined"
     ]
    }
   ],
   "source": [
    "(agg_df.groupby('ticker').mean()['vwap'])/(agg_df.groupby('ticker').std()['vwap']/np.sqrt(agg_df.groupby('ticker').count()['vwap']))"
   ]
  },
  {
   "cell_type": "code",
   "execution_count": null,
   "id": "37b6ed0b",
   "metadata": {},
   "outputs": [],
   "source": []
  },
  {
   "cell_type": "code",
   "execution_count": 30,
   "id": "0eb8662d",
   "metadata": {},
   "outputs": [
    {
     "data": {
      "text/html": [
       "<div>\n",
       "<style scoped>\n",
       "    .dataframe tbody tr th:only-of-type {\n",
       "        vertical-align: middle;\n",
       "    }\n",
       "\n",
       "    .dataframe tbody tr th {\n",
       "        vertical-align: top;\n",
       "    }\n",
       "\n",
       "    .dataframe thead th {\n",
       "        text-align: right;\n",
       "    }\n",
       "</style>\n",
       "<table border=\"1\" class=\"dataframe\">\n",
       "  <thead>\n",
       "    <tr style=\"text-align: right;\">\n",
       "      <th></th>\n",
       "      <th>vwap</th>\n",
       "      <th>ticker</th>\n",
       "      <th>btc</th>\n",
       "      <th>strat_rets</th>\n",
       "    </tr>\n",
       "    <tr>\n",
       "      <th>timestamp</th>\n",
       "      <th></th>\n",
       "      <th></th>\n",
       "      <th></th>\n",
       "      <th></th>\n",
       "    </tr>\n",
       "  </thead>\n",
       "  <tbody>\n",
       "    <tr>\n",
       "      <th>2023-08-06</th>\n",
       "      <td>0.161953</td>\n",
       "      <td>AFC_USDT</td>\n",
       "      <td>-0.001794</td>\n",
       "      <td>0.160159</td>\n",
       "    </tr>\n",
       "    <tr>\n",
       "      <th>2023-08-06</th>\n",
       "      <td>0.028897</td>\n",
       "      <td>CITY_USDT</td>\n",
       "      <td>-0.001794</td>\n",
       "      <td>0.027103</td>\n",
       "    </tr>\n",
       "    <tr>\n",
       "      <th>2023-08-11</th>\n",
       "      <td>-0.000541</td>\n",
       "      <td>CITY_USDT</td>\n",
       "      <td>-0.010470</td>\n",
       "      <td>-0.011011</td>\n",
       "    </tr>\n",
       "    <tr>\n",
       "      <th>2023-08-12</th>\n",
       "      <td>0.006488</td>\n",
       "      <td>AFC_USDT</td>\n",
       "      <td>-0.003666</td>\n",
       "      <td>0.002823</td>\n",
       "    </tr>\n",
       "    <tr>\n",
       "      <th>2023-08-14</th>\n",
       "      <td>0.006066</td>\n",
       "      <td>ATM_USDT</td>\n",
       "      <td>-0.000416</td>\n",
       "      <td>0.005650</td>\n",
       "    </tr>\n",
       "    <tr>\n",
       "      <th>2023-08-16</th>\n",
       "      <td>0.058646</td>\n",
       "      <td>CITY_USDT</td>\n",
       "      <td>-0.011512</td>\n",
       "      <td>0.047135</td>\n",
       "    </tr>\n",
       "    <tr>\n",
       "      <th>2023-08-19</th>\n",
       "      <td>0.012732</td>\n",
       "      <td>CITY_USDT</td>\n",
       "      <td>-0.038204</td>\n",
       "      <td>-0.025473</td>\n",
       "    </tr>\n",
       "    <tr>\n",
       "      <th>2023-08-20</th>\n",
       "      <td>0.042720</td>\n",
       "      <td>ATM_USDT</td>\n",
       "      <td>-0.008701</td>\n",
       "      <td>0.034019</td>\n",
       "    </tr>\n",
       "    <tr>\n",
       "      <th>2023-08-20</th>\n",
       "      <td>-0.008962</td>\n",
       "      <td>ASR_USDT</td>\n",
       "      <td>-0.008701</td>\n",
       "      <td>-0.017664</td>\n",
       "    </tr>\n",
       "    <tr>\n",
       "      <th>2023-08-20</th>\n",
       "      <td>-0.074045</td>\n",
       "      <td>LAZIO_USDT</td>\n",
       "      <td>-0.008701</td>\n",
       "      <td>-0.082746</td>\n",
       "    </tr>\n",
       "    <tr>\n",
       "      <th>2023-08-21</th>\n",
       "      <td>-0.035770</td>\n",
       "      <td>ACM_USDT</td>\n",
       "      <td>0.000961</td>\n",
       "      <td>-0.034809</td>\n",
       "    </tr>\n",
       "    <tr>\n",
       "      <th>2023-08-21</th>\n",
       "      <td>-0.031465</td>\n",
       "      <td>AFC_USDT</td>\n",
       "      <td>0.000961</td>\n",
       "      <td>-0.030504</td>\n",
       "    </tr>\n",
       "    <tr>\n",
       "      <th>2023-08-26</th>\n",
       "      <td>-0.001870</td>\n",
       "      <td>ASR_USDT</td>\n",
       "      <td>-0.007292</td>\n",
       "      <td>-0.009162</td>\n",
       "    </tr>\n",
       "    <tr>\n",
       "      <th>2023-08-26</th>\n",
       "      <td>0.015588</td>\n",
       "      <td>AFC_USDT</td>\n",
       "      <td>-0.007292</td>\n",
       "      <td>0.008296</td>\n",
       "    </tr>\n",
       "    <tr>\n",
       "      <th>2023-08-26</th>\n",
       "      <td>0.008907</td>\n",
       "      <td>ACM_USDT</td>\n",
       "      <td>-0.007292</td>\n",
       "      <td>0.001615</td>\n",
       "    </tr>\n",
       "    <tr>\n",
       "      <th>2023-08-27</th>\n",
       "      <td>0.006019</td>\n",
       "      <td>CITY_USDT</td>\n",
       "      <td>0.002148</td>\n",
       "      <td>0.008167</td>\n",
       "    </tr>\n",
       "    <tr>\n",
       "      <th>2023-08-27</th>\n",
       "      <td>0.021091</td>\n",
       "      <td>LAZIO_USDT</td>\n",
       "      <td>0.002148</td>\n",
       "      <td>0.023239</td>\n",
       "    </tr>\n",
       "    <tr>\n",
       "      <th>2023-08-28</th>\n",
       "      <td>0.018869</td>\n",
       "      <td>ATM_USDT</td>\n",
       "      <td>-0.000154</td>\n",
       "      <td>0.018715</td>\n",
       "    </tr>\n",
       "  </tbody>\n",
       "</table>\n",
       "</div>"
      ],
      "text/plain": [
       "                vwap      ticker       btc  strat_rets\n",
       "timestamp                                             \n",
       "2023-08-06  0.161953    AFC_USDT -0.001794    0.160159\n",
       "2023-08-06  0.028897   CITY_USDT -0.001794    0.027103\n",
       "2023-08-11 -0.000541   CITY_USDT -0.010470   -0.011011\n",
       "2023-08-12  0.006488    AFC_USDT -0.003666    0.002823\n",
       "2023-08-14  0.006066    ATM_USDT -0.000416    0.005650\n",
       "2023-08-16  0.058646   CITY_USDT -0.011512    0.047135\n",
       "2023-08-19  0.012732   CITY_USDT -0.038204   -0.025473\n",
       "2023-08-20  0.042720    ATM_USDT -0.008701    0.034019\n",
       "2023-08-20 -0.008962    ASR_USDT -0.008701   -0.017664\n",
       "2023-08-20 -0.074045  LAZIO_USDT -0.008701   -0.082746\n",
       "2023-08-21 -0.035770    ACM_USDT  0.000961   -0.034809\n",
       "2023-08-21 -0.031465    AFC_USDT  0.000961   -0.030504\n",
       "2023-08-26 -0.001870    ASR_USDT -0.007292   -0.009162\n",
       "2023-08-26  0.015588    AFC_USDT -0.007292    0.008296\n",
       "2023-08-26  0.008907    ACM_USDT -0.007292    0.001615\n",
       "2023-08-27  0.006019   CITY_USDT  0.002148    0.008167\n",
       "2023-08-27  0.021091  LAZIO_USDT  0.002148    0.023239\n",
       "2023-08-28  0.018869    ATM_USDT -0.000154    0.018715"
      ]
     },
     "execution_count": 30,
     "metadata": {},
     "output_type": "execute_result"
    }
   ],
   "source": [
    "agg_df"
   ]
  },
  {
   "cell_type": "code",
   "execution_count": null,
   "id": "23396405",
   "metadata": {},
   "outputs": [],
   "source": []
  },
  {
   "cell_type": "code",
   "execution_count": null,
   "id": "154ed1f2",
   "metadata": {},
   "outputs": [],
   "source": []
  },
  {
   "cell_type": "code",
   "execution_count": null,
   "id": "657dfc95",
   "metadata": {},
   "outputs": [],
   "source": []
  }
 ],
 "metadata": {
  "kernelspec": {
   "display_name": "Python 3 (ipykernel)",
   "language": "python",
   "name": "python3"
  },
  "language_info": {
   "codemirror_mode": {
    "name": "ipython",
    "version": 3
   },
   "file_extension": ".py",
   "mimetype": "text/x-python",
   "name": "python",
   "nbconvert_exporter": "python",
   "pygments_lexer": "ipython3",
   "version": "3.9.10"
  }
 },
 "nbformat": 4,
 "nbformat_minor": 5
}
