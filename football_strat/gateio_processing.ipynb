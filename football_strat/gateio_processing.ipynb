{
 "cells": [
  {
   "cell_type": "code",
   "execution_count": 2,
   "id": "cf266648-fcc9-42a6-a392-b0c513c52efb",
   "metadata": {},
   "outputs": [],
   "source": [
    "import pandas as pd\n",
    "import datetime as dt\n",
    "import time\n",
    "from os import listdir\n",
    "from os.path import isfile, join\n",
    "import numpy as np"
   ]
  },
  {
   "cell_type": "code",
   "execution_count": 3,
   "id": "52f0bea9",
   "metadata": {},
   "outputs": [],
   "source": [
    "folder = \"/Users/aronnyberg/code/quanty2/gateio_data/major_trade_data\"\n",
    "files = [f for f in listdir(folder) if isfile(join(folder, f))]"
   ]
  },
  {
   "cell_type": "code",
   "execution_count": 4,
   "id": "3fdcb5a1",
   "metadata": {},
   "outputs": [],
   "source": [
    "#files = [i for i in files if i[6] in ['202307', '202308', '202309']]\n"
   ]
  },
  {
   "cell_type": "code",
   "execution_count": 17,
   "id": "aa66c23e",
   "metadata": {},
   "outputs": [
    {
     "data": {
      "text/plain": [
       "['SOL_USDT-202204',\n",
       " 'SOL_USDT-202009',\n",
       " 'SOL_USDT-202203',\n",
       " 'SOL_USDT-202007',\n",
       " 'SOL_USDT-202006',\n",
       " 'SOL_USDT-202202',\n",
       " 'SOL_USDT-202205',\n",
       " 'SOL_USDT-202008',\n",
       " 'SOL_USDT-202111',\n",
       " 'SOL_USDT-202110',\n",
       " 'SOL_USDT-202104',\n",
       " 'SOL_USDT-202103',\n",
       " 'SOL_USDT-202301',\n",
       " 'SOL_USDT-202306',\n",
       " 'SOL_USDT-202102',\n",
       " 'SOL_USDT-202105',\n",
       " 'SOL_USDT-202012',\n",
       " 'SOL_USDT-202211',\n",
       " 'SOL_USDT-202210',\n",
       " 'SOL_USDT-202207',\n",
       " 'SOL_USDT-202209',\n",
       " 'SOL_USDT-202208',\n",
       " 'SOL_USDT-202206',\n",
       " 'SOL_USDT-202201',\n",
       " 'SOL_USDT-202112',\n",
       " 'SOL_USDT-202107',\n",
       " 'SOL_USDT-202303',\n",
       " 'SOL_USDT-202109',\n",
       " 'SOL_USDT-202304',\n",
       " 'SOL_USDT-202108',\n",
       " 'SOL_USDT-202305',\n",
       " 'SOL_USDT-202302',\n",
       " 'SOL_USDT-202106',\n",
       " 'SOL_USDT-202101',\n",
       " 'SOL_USDT-202011',\n",
       " 'SOL_USDT-202212',\n",
       " 'SOL_USDT-202010']"
      ]
     },
     "execution_count": 17,
     "metadata": {},
     "output_type": "execute_result"
    }
   ],
   "source": []
  },
  {
   "cell_type": "code",
   "execution_count": 6,
   "id": "5f295a7b-ae35-46fc-a9c8-023a35f999fa",
   "metadata": {},
   "outputs": [],
   "source": [
    "def date_processing(df):\n",
    "    df = df[[\"timestamp\",\"dealid\",\"price\",\"amount\",\"side\"]]\n",
    "    df['hour'] = [i[:-3] for i in df['timestamp']]#.apply(lambda x: x.strftime('%Y-%m-%d-%H'))\n",
    "    df.set_index(\"hour\", inplace=True)\n",
    "    df.sort_values(by='timestamp', inplace=True)\n",
    "    return df\n",
    "\n",
    "def vwap1():\n",
    "    df = pd.DataFrame()\n",
    "    for each_file in files[:1]:\n",
    "            if each_file != \".DS_Store\":\n",
    "                #vwap calc based on https://school.stockcharts.com/doku.php?id=technical_indicators:vwap_intraday\n",
    "                tp = (each_file['price'].groupby(level=0).max()+each_file['price'].groupby(level=0).min()\n",
    "                    +each_file['price'].groupby(level=0).tail(1))/3\n",
    "                v = each_file['amount'].groupby(level=0).sum()\n",
    "                tp_v = tp*v\n",
    "                tp_v_cum = tp_v.cumsum()\n",
    "                v_cum = v.cumsum()\n",
    "                vwap = tp_v_cum/v_cum\n",
    "                new_df = pd.DataFrame(vwap)\n",
    "                new_df['ticker'] = each_file[:-7]\n",
    "                new_df.columns = ['vwap', 'ticker']\n",
    "                if df.empty:\n",
    "                    df = new_df\n",
    "                else: \n",
    "                    df = pd.concat([df, new_df])\n",
    "    #df.to_csv(\"/Users/aronnyberg/code/quanty2/data/aggregated_trade_data.csv\")\n",
    "    return df\n",
    "\n",
    "def vwap_vanilla(df):\n",
    "    q = df.amount.values\n",
    "    p = df.price.values\n",
    "    return df.assign(vwap=(p * q).cumsum() / q.cumsum())\n",
    "\n",
    "def vwap2(df):\n",
    "    df = df.groupby(df.index.date, group_keys=False).apply(vwap_vanilla)\n",
    "    return df"
   ]
  },
  {
   "cell_type": "code",
   "execution_count": 7,
   "id": "c62dba82-6378-4c2e-bb05-ce27ce6fd054",
   "metadata": {},
   "outputs": [],
   "source": [
    "# each = files[:1][0]\n",
    "# df = pd.read_csv(folder+\"/\"+each)\n",
    "# df = df[[\"timestamp\",\"dealid\",\"price\",\"amount\",\"side\"]]\n",
    "# df['timestamp'] = pd.to_datetime(df['timestamp'], format='%Y-%m-%d-%H-%M')\n",
    "# df.sort_values('timestamp', inplace=True)\n",
    "# df.set_index('timestamp', inplace=True)"
   ]
  },
  {
   "cell_type": "code",
   "execution_count": 8,
   "id": "1d872809-b62a-4f27-88ea-b5f0234a9486",
   "metadata": {},
   "outputs": [
    {
     "name": "stderr",
     "output_type": "stream",
     "text": [
      "/var/folders/jq/bnrgxd_s43d7nggw471h_rtm0000gn/T/ipykernel_26924/2966718904.py:33: RuntimeWarning: invalid value encountered in divide\n",
      "  return df.assign(vwap=(p * q).cumsum() / q.cumsum())\n",
      "/var/folders/jq/bnrgxd_s43d7nggw471h_rtm0000gn/T/ipykernel_26924/2966718904.py:33: RuntimeWarning: invalid value encountered in divide\n",
      "  return df.assign(vwap=(p * q).cumsum() / q.cumsum())\n",
      "/var/folders/jq/bnrgxd_s43d7nggw471h_rtm0000gn/T/ipykernel_26924/2966718904.py:33: RuntimeWarning: invalid value encountered in divide\n",
      "  return df.assign(vwap=(p * q).cumsum() / q.cumsum())\n"
     ]
    }
   ],
   "source": [
    "def each_assetmonth_sort(each_assetmonth):\n",
    "    #read and sort each month of data\n",
    "    df = pd.read_csv(folder+\"/\"+each_assetmonth)\n",
    "    df = df[[\"timestamp\",\"dealid\",\"price\",\"amount\",\"side\"]]\n",
    "    df['timestamp'] = pd.to_datetime(df['timestamp'], format='%Y-%m-%d-%H-%M')\n",
    "    df.sort_values('timestamp', inplace=True)\n",
    "    df.set_index('timestamp', inplace=True)\n",
    "    #calculate vwap\n",
    "    df = vwap2(df)\n",
    "    #assemble all assets and times together\n",
    "    df = df[['price', 'vwap']]\n",
    "    #df['vwap_pct_change'] = df['vwap'].pct_change()\n",
    "    #df['price_pct_change'] = df['price'].pct_change()\n",
    "    df['ticker'] = each_assetmonth[:-7]\n",
    "    return df\n",
    "\n",
    "batched_data =[]\n",
    "for files in \n",
    "for each_assetmonth in files:\n",
    "        if each_assetmonth != \".DS_Store\":\n",
    "              batched_data.append(each_assetmonth_sort(each_assetmonth))\n",
    "\n",
    "            \n",
    "\n",
    "\n",
    "# [i.split('-')[0] for i in files]\n",
    "# matching_files = [i for i in listdir(folder) if isfile(join(folder,i)) and \\\n",
    "#          'SFP_USDT' in i]\n",
    "# matching_files"
   ]
  },
  {
   "cell_type": "code",
   "execution_count": null,
   "metadata": {},
   "outputs": [
    {
     "ename": "",
     "evalue": "",
     "output_type": "error",
     "traceback": [
      "\u001b[1;31mThe Kernel crashed while executing code in the the current cell or a previous cell. Please review the code in the cell(s) to identify a possible cause of the failure. Click <a href='https://aka.ms/vscodeJupyterKernelCrash'>here</a> for more info. View Jupyter <a href='command:jupyter.viewOutput'>log</a> for further details."
     ]
    }
   ],
   "source": [
    "agg_df = pd.concat(batched_data)"
   ]
  },
  {
   "cell_type": "code",
   "execution_count": null,
   "metadata": {},
   "outputs": [],
   "source": [
    "agg_df.head()"
   ]
  },
  {
   "cell_type": "code",
   "execution_count": null,
   "id": "8f2691ee-f094-4eed-a71c-336538d8f75e",
   "metadata": {},
   "outputs": [
    {
     "data": {
      "text/html": [
       "<div>\n",
       "<style scoped>\n",
       "    .dataframe tbody tr th:only-of-type {\n",
       "        vertical-align: middle;\n",
       "    }\n",
       "\n",
       "    .dataframe tbody tr th {\n",
       "        vertical-align: top;\n",
       "    }\n",
       "\n",
       "    .dataframe thead th {\n",
       "        text-align: right;\n",
       "    }\n",
       "</style>\n",
       "<table border=\"1\" class=\"dataframe\">\n",
       "  <thead>\n",
       "    <tr style=\"text-align: right;\">\n",
       "      <th></th>\n",
       "      <th>price</th>\n",
       "      <th>vwap</th>\n",
       "      <th>ticker</th>\n",
       "    </tr>\n",
       "    <tr>\n",
       "      <th>timestamp</th>\n",
       "      <th></th>\n",
       "      <th></th>\n",
       "      <th></th>\n",
       "    </tr>\n",
       "  </thead>\n",
       "  <tbody>\n",
       "    <tr>\n",
       "      <th>2023-07-01 01:01:00</th>\n",
       "      <td>2.3950</td>\n",
       "      <td>2.395000</td>\n",
       "      <td>ASR_USDT</td>\n",
       "    </tr>\n",
       "    <tr>\n",
       "      <th>2023-07-01 01:02:00</th>\n",
       "      <td>2.3945</td>\n",
       "      <td>2.394754</td>\n",
       "      <td>ASR_USDT</td>\n",
       "    </tr>\n",
       "    <tr>\n",
       "      <th>2023-07-01 01:03:00</th>\n",
       "      <td>2.3964</td>\n",
       "      <td>2.395419</td>\n",
       "      <td>ASR_USDT</td>\n",
       "    </tr>\n",
       "    <tr>\n",
       "      <th>2023-07-01 01:04:00</th>\n",
       "      <td>2.3937</td>\n",
       "      <td>2.394892</td>\n",
       "      <td>ASR_USDT</td>\n",
       "    </tr>\n",
       "    <tr>\n",
       "      <th>2023-07-01 01:05:00</th>\n",
       "      <td>2.3986</td>\n",
       "      <td>2.395194</td>\n",
       "      <td>ASR_USDT</td>\n",
       "    </tr>\n",
       "    <tr>\n",
       "      <th>...</th>\n",
       "      <td>...</td>\n",
       "      <td>...</td>\n",
       "      <td>...</td>\n",
       "    </tr>\n",
       "    <tr>\n",
       "      <th>2023-09-01 00:55:00</th>\n",
       "      <td>1.8469</td>\n",
       "      <td>1.855185</td>\n",
       "      <td>INTER_USDT</td>\n",
       "    </tr>\n",
       "    <tr>\n",
       "      <th>2023-09-01 00:56:00</th>\n",
       "      <td>1.8491</td>\n",
       "      <td>1.855055</td>\n",
       "      <td>INTER_USDT</td>\n",
       "    </tr>\n",
       "    <tr>\n",
       "      <th>2023-09-01 00:57:00</th>\n",
       "      <td>1.8562</td>\n",
       "      <td>1.855074</td>\n",
       "      <td>INTER_USDT</td>\n",
       "    </tr>\n",
       "    <tr>\n",
       "      <th>2023-09-01 00:58:00</th>\n",
       "      <td>1.8496</td>\n",
       "      <td>1.854968</td>\n",
       "      <td>INTER_USDT</td>\n",
       "    </tr>\n",
       "    <tr>\n",
       "      <th>2023-09-01 00:59:00</th>\n",
       "      <td>1.8467</td>\n",
       "      <td>1.854755</td>\n",
       "      <td>INTER_USDT</td>\n",
       "    </tr>\n",
       "  </tbody>\n",
       "</table>\n",
       "<p>5182086 rows × 3 columns</p>\n",
       "</div>"
      ],
      "text/plain": [
       "                      price      vwap      ticker\n",
       "timestamp                                        \n",
       "2023-07-01 01:01:00  2.3950  2.395000    ASR_USDT\n",
       "2023-07-01 01:02:00  2.3945  2.394754    ASR_USDT\n",
       "2023-07-01 01:03:00  2.3964  2.395419    ASR_USDT\n",
       "2023-07-01 01:04:00  2.3937  2.394892    ASR_USDT\n",
       "2023-07-01 01:05:00  2.3986  2.395194    ASR_USDT\n",
       "...                     ...       ...         ...\n",
       "2023-09-01 00:55:00  1.8469  1.855185  INTER_USDT\n",
       "2023-09-01 00:56:00  1.8491  1.855055  INTER_USDT\n",
       "2023-09-01 00:57:00  1.8562  1.855074  INTER_USDT\n",
       "2023-09-01 00:58:00  1.8496  1.854968  INTER_USDT\n",
       "2023-09-01 00:59:00  1.8467  1.854755  INTER_USDT\n",
       "\n",
       "[5182086 rows x 3 columns]"
      ]
     },
     "execution_count": 10,
     "metadata": {},
     "output_type": "execute_result"
    }
   ],
   "source": [
    "agg_df.to_csv(\"/Users/aronnyberg/code/quanty2/gateio_data/majors_agg_trade_data.csv\")"
   ]
  },
  {
   "cell_type": "code",
   "execution_count": 14,
   "id": "45733167",
   "metadata": {},
   "outputs": [],
   "source": [
    "#specific processing\n",
    "#agg_df = pd.read_csv(\"/Users/aronnyberg/code/quanty2/gateio_data/btc_trade_data.csv\")\n"
   ]
  },
  {
   "cell_type": "code",
   "execution_count": 21,
   "metadata": {},
   "outputs": [],
   "source": [
    "# agg_df = agg_df[agg_df['ticker'] ==\"BTC_USDT\"]\n",
    "agg_df['timestamp'] = pd.to_datetime(agg_df['timestamp'])\n",
    "agg_df.set_index('timestamp', inplace=True)\n",
    "agg_df = agg_df['vwap']"
   ]
  },
  {
   "cell_type": "code",
   "execution_count": 22,
   "id": "2bf8bec2",
   "metadata": {},
   "outputs": [],
   "source": [
    "batch_size = 100000  # Number of data points per batch\n",
    "\n",
    "# Calculate the number of batches\n",
    "num_batches = len(agg_df) // batch_size\n",
    "\n",
    "# Initialize an empty list to store the batched data\n",
    "batched_data = []\n",
    "\n",
    "# Loop through the data and create batches\n",
    "for i in range(num_batches):\n",
    "    start_idx = i * batch_size\n",
    "    end_idx = (i + 1) * batch_size\n",
    "    batch = agg_df.iloc[start_idx:end_idx]\n",
    "    # Here, you can perform any desired aggregation on the batch, e.g., sum, mean, etc.\n",
    "    batched_data.append(batch.pct_change().resample('T').sum())"
   ]
  },
  {
   "cell_type": "code",
   "execution_count": 23,
   "id": "47106786",
   "metadata": {},
   "outputs": [],
   "source": [
    "# Concatenate the batched data into a single DataFrame\n",
    "#daily_btc_rets = pd.concat(batched_data)\n",
    "daily_rets = pd.concat(batched_data)"
   ]
  },
  {
   "cell_type": "code",
   "execution_count": 24,
   "id": "3d85ebc4",
   "metadata": {},
   "outputs": [],
   "source": [
    "daily_rets = daily_rets.resample('T').sum()"
   ]
  },
  {
   "cell_type": "code",
   "execution_count": 27,
   "id": "30a34539",
   "metadata": {},
   "outputs": [
    {
     "data": {
      "text/plain": [
       "<AxesSubplot:xlabel='timestamp'>"
      ]
     },
     "execution_count": 27,
     "metadata": {},
     "output_type": "execute_result"
    },
    {
     "data": {
      "image/png": "[encoded data removed]",
      "text/plain": [
       "<Figure size 640x480 with 1 Axes>"
      ]
     },
     "metadata": {},
     "output_type": "display_data"
    }
   ],
   "source": [
    "daily_rets.cumsum().plot()"
   ]
  },
  {
   "cell_type": "code",
   "execution_count": 12,
   "metadata": {},
   "outputs": [
    {
     "data": {
      "text/html": [
       "<div>\n",
       "<style scoped>\n",
       "    .dataframe tbody tr th:only-of-type {\n",
       "        vertical-align: middle;\n",
       "    }\n",
       "\n",
       "    .dataframe tbody tr th {\n",
       "        vertical-align: top;\n",
       "    }\n",
       "\n",
       "    .dataframe thead th {\n",
       "        text-align: right;\n",
       "    }\n",
       "</style>\n",
       "<table border=\"1\" class=\"dataframe\">\n",
       "  <thead>\n",
       "    <tr style=\"text-align: right;\">\n",
       "      <th></th>\n",
       "      <th>price</th>\n",
       "      <th>vwap</th>\n",
       "      <th>ticker</th>\n",
       "    </tr>\n",
       "    <tr>\n",
       "      <th>timestamp</th>\n",
       "      <th></th>\n",
       "      <th></th>\n",
       "      <th></th>\n",
       "    </tr>\n",
       "  </thead>\n",
       "  <tbody>\n",
       "    <tr>\n",
       "      <th>2022-04-01 01:00:00</th>\n",
       "      <td>122.81810</td>\n",
       "      <td>122.818100</td>\n",
       "      <td>SOL_USDT</td>\n",
       "    </tr>\n",
       "    <tr>\n",
       "      <th>2022-04-01 01:00:00</th>\n",
       "      <td>123.02600</td>\n",
       "      <td>122.936900</td>\n",
       "      <td>SOL_USDT</td>\n",
       "    </tr>\n",
       "    <tr>\n",
       "      <th>2022-04-01 01:00:00</th>\n",
       "      <td>123.14590</td>\n",
       "      <td>122.960946</td>\n",
       "      <td>SOL_USDT</td>\n",
       "    </tr>\n",
       "    <tr>\n",
       "      <th>2022-04-01 01:00:00</th>\n",
       "      <td>123.11970</td>\n",
       "      <td>122.980734</td>\n",
       "      <td>SOL_USDT</td>\n",
       "    </tr>\n",
       "    <tr>\n",
       "      <th>2022-04-01 01:00:00</th>\n",
       "      <td>123.02940</td>\n",
       "      <td>122.987953</td>\n",
       "      <td>SOL_USDT</td>\n",
       "    </tr>\n",
       "    <tr>\n",
       "      <th>...</th>\n",
       "      <td>...</td>\n",
       "      <td>...</td>\n",
       "      <td>...</td>\n",
       "    </tr>\n",
       "    <tr>\n",
       "      <th>2022-06-01 00:59:00</th>\n",
       "      <td>0.08433</td>\n",
       "      <td>0.083727</td>\n",
       "      <td>TRX_USDT</td>\n",
       "    </tr>\n",
       "    <tr>\n",
       "      <th>2022-06-01 00:59:00</th>\n",
       "      <td>0.08432</td>\n",
       "      <td>0.083727</td>\n",
       "      <td>TRX_USDT</td>\n",
       "    </tr>\n",
       "    <tr>\n",
       "      <th>2022-06-01 00:59:00</th>\n",
       "      <td>0.08435</td>\n",
       "      <td>0.083727</td>\n",
       "      <td>TRX_USDT</td>\n",
       "    </tr>\n",
       "    <tr>\n",
       "      <th>2022-06-01 00:59:00</th>\n",
       "      <td>0.08424</td>\n",
       "      <td>0.083727</td>\n",
       "      <td>TRX_USDT</td>\n",
       "    </tr>\n",
       "    <tr>\n",
       "      <th>2022-06-01 00:59:00</th>\n",
       "      <td>0.08446</td>\n",
       "      <td>0.083727</td>\n",
       "      <td>TRX_USDT</td>\n",
       "    </tr>\n",
       "  </tbody>\n",
       "</table>\n",
       "<p>7452025 rows × 3 columns</p>\n",
       "</div>"
      ],
      "text/plain": [
       "                         price        vwap    ticker\n",
       "timestamp                                           \n",
       "2022-04-01 01:00:00  122.81810  122.818100  SOL_USDT\n",
       "2022-04-01 01:00:00  123.02600  122.936900  SOL_USDT\n",
       "2022-04-01 01:00:00  123.14590  122.960946  SOL_USDT\n",
       "2022-04-01 01:00:00  123.11970  122.980734  SOL_USDT\n",
       "2022-04-01 01:00:00  123.02940  122.987953  SOL_USDT\n",
       "...                        ...         ...       ...\n",
       "2022-06-01 00:59:00    0.08433    0.083727  TRX_USDT\n",
       "2022-06-01 00:59:00    0.08432    0.083727  TRX_USDT\n",
       "2022-06-01 00:59:00    0.08435    0.083727  TRX_USDT\n",
       "2022-06-01 00:59:00    0.08424    0.083727  TRX_USDT\n",
       "2022-06-01 00:59:00    0.08446    0.083727  TRX_USDT\n",
       "\n",
       "[7452025 rows x 3 columns]"
      ]
     },
     "execution_count": 12,
     "metadata": {},
     "output_type": "execute_result"
    }
   ],
   "source": [
    "pd.concat(batched_data[:10])"
   ]
  },
  {
   "cell_type": "code",
   "execution_count": null,
   "metadata": {},
   "outputs": [],
   "source": []
  }
 ],
 "metadata": {
  "kernelspec": {
   "display_name": "Python 3 (ipykernel)",
   "language": "python",
   "name": "python3"
  },
  "language_info": {
   "codemirror_mode": {
    "name": "ipython",
    "version": 3
   },
   "file_extension": ".py",
   "mimetype": "text/x-python",
   "name": "python",
   "nbconvert_exporter": "python",
   "pygments_lexer": "ipython3",
   "version": "3.9.10"
  }
 },
 "nbformat": 4,
 "nbformat_minor": 5
}
