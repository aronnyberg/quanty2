{
 "cells": [
  {
   "cell_type": "code",
   "execution_count": null,
   "id": "cf266648-fcc9-42a6-a392-b0c513c52efb",
   "metadata": {},
   "outputs": [],
   "source": [
    "import pandas as pd\n",
    "import datetime as dt\n",
    "import time\n",
    "from os import listdir\n",
    "from os.path import isfile, join\n",
    "import numpy as np"
   ]
  },
  {
   "cell_type": "code",
   "execution_count": null,
   "id": "52f0bea9",
   "metadata": {},
   "outputs": [],
   "source": [
    "folder = \"../gateio_data/football_trade_data\"\n",
    "files = [f for f in listdir(folder) if isfile(join(folder, f))]\n",
    "\n",
    "#when subset required\n",
    "#files = [i for i in files if i[6] in ['202307', '202308', '202309']]"
   ]
  },
  {
   "cell_type": "code",
   "execution_count": null,
   "id": "5f295a7b-ae35-46fc-a9c8-023a35f999fa",
   "metadata": {},
   "outputs": [],
   "source": [
    "def date_processing(df):\n",
    "    df = df[[\"timestamp\",\"dealid\",\"price\",\"amount\",\"side\"]]\n",
    "    df['hour'] = [i[:-3] for i in df['timestamp']]\n",
    "    df.set_index(\"hour\", inplace=True)\n",
    "    df.sort_values(by='timestamp', inplace=True)\n",
    "    return df\n",
    "\n",
    "def vwap_vanilla(df):\n",
    "    q = df.amount.values\n",
    "    p = df.price.values\n",
    "    return df.assign(vwap=(p * q).cumsum() / q.cumsum())\n",
    "\n",
    "def vwap2(df):\n",
    "    df = df.groupby(df.index.date, group_keys=False).apply(vwap_vanilla)\n",
    "    return df"
   ]
  },
  {
   "cell_type": "code",
   "execution_count": null,
   "id": "1d872809-b62a-4f27-88ea-b5f0234a9486",
   "metadata": {},
   "outputs": [],
   "source": [
    "#the following function delivers VWAP for the asset trade data (across minutes)\n",
    "def each_assetmonth_sort(each_assetmonth):\n",
    "    #read and sort each month of data\n",
    "    df = pd.read_csv(folder+\"/\"+each_assetmonth)\n",
    "    df = df[[\"timestamp\",\"dealid\",\"price\",\"amount\",\"side\"]]\n",
    "    df['timestamp'] = pd.to_datetime(df['timestamp'], format='%Y-%m-%d-%H-%M')\n",
    "    df.sort_values('timestamp', inplace=True)\n",
    "    df.set_index('timestamp', inplace=True)\n",
    "    #calculate vwap\n",
    "    df = vwap2(df)\n",
    "    \n",
    "    #assemble all assets and times together\n",
    "    df = df[['price', 'vwap']]\n",
    "    df['ticker'] = each_assetmonth[:-7]\n",
    "    return df\n",
    "\n",
    "batched_data =[]\n",
    "for each_assetmonth in files:\n",
    "        if each_assetmonth != \".DS_Store\":\n",
    "              batched_data.append(each_assetmonth_sort(each_assetmonth))\n"
   ]
  },
  {
   "cell_type": "code",
   "execution_count": null,
   "metadata": {},
   "outputs": [],
   "source": [
    "agg_df = pd.concat(batched_data)"
   ]
  },
  {
   "cell_type": "code",
   "execution_count": null,
   "id": "8f2691ee-f094-4eed-a71c-336538d8f75e",
   "metadata": {},
   "outputs": [],
   "source": [
    "agg_df.to_csv(\"../gateio_data/minutely_data/aggregated_minutely_data.csv\")"
   ]
  },
  {
   "cell_type": "code",
   "execution_count": null,
   "id": "45733167",
   "metadata": {},
   "outputs": [],
   "source": [
    "#specific processing for btc as requires batch processing to organise\n",
    "#rerun the above code for btc specifically\n",
    "btc_df = pd.read_csv(\"../gateio_data/btc_vwap_data.csv\")\n"
   ]
  },
  {
   "cell_type": "code",
   "execution_count": null,
   "metadata": {},
   "outputs": [],
   "source": [
    "# agg_df = agg_df[agg_df['ticker'] ==\"BTC_USDT\"]\n",
    "btc_df['timestamp'] = pd.to_datetime(btc_df['timestamp'])\n",
    "btc_df.set_index('timestamp', inplace=True)\n",
    "btc_df = btc_df['vwap']"
   ]
  },
  {
   "cell_type": "code",
   "execution_count": null,
   "id": "2bf8bec2",
   "metadata": {},
   "outputs": [],
   "source": [
    "batch_size = 100000  # Number of data points per batch\n",
    "\n",
    "# Calculate the number of batches\n",
    "num_batches = len(btc_df) // batch_size\n",
    "\n",
    "# Initialize an empty list to store the batched data\n",
    "batched_data = []\n",
    "\n",
    "# Loop through the data and create batches\n",
    "for i in range(num_batches):\n",
    "    start_idx = i * batch_size\n",
    "    end_idx = (i + 1) * batch_size\n",
    "    batch = btc_df.iloc[start_idx:end_idx]\n",
    "    #the \n",
    "    batched_data.append(batch.pct_change().resample('d').sum())"
   ]
  },
  {
   "cell_type": "code",
   "execution_count": null,
   "id": "47106786",
   "metadata": {},
   "outputs": [],
   "source": [
    "# Concatenate the batched data into a single DataFrame\n",
    "#daily_btc_rets = pd.concat(batched_data)\n",
    "btc_daily_rets = pd.concat(batched_data)"
   ]
  },
  {
   "cell_type": "code",
   "execution_count": null,
   "id": "3d85ebc4",
   "metadata": {},
   "outputs": [],
   "source": [
    "btc_daily_rets = btc_daily_rets.resample('d').sum()"
   ]
  },
  {
   "cell_type": "code",
   "execution_count": null,
   "id": "30a34539",
   "metadata": {},
   "outputs": [],
   "source": [
    "btc_daily_rets.to_csv(\"../gateio_data/minutely_data/btc_daily_rets\")"
   ]
  }
 ],
 "metadata": {
  "kernelspec": {
   "display_name": "Python 3 (ipykernel)",
   "language": "python",
   "name": "python3"
  },
  "language_info": {
   "codemirror_mode": {
    "name": "ipython",
    "version": 3
   },
   "file_extension": ".py",
   "mimetype": "text/x-python",
   "name": "python",
   "nbconvert_exporter": "python",
   "pygments_lexer": "ipython3",
   "version": "3.9.10"
  }
 },
 "nbformat": 4,
 "nbformat_minor": 5
}
