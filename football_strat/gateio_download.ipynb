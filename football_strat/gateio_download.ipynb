{
 "cells": [
  {
   "cell_type": "code",
   "execution_count": null,
   "id": "6c93a4c2",
   "metadata": {},
   "outputs": [],
   "source": [
    "import pandas as pd\n",
    "import datetime as dt\n",
    "import time"
   ]
  },
  {
   "cell_type": "code",
   "execution_count": null,
   "id": "2d572976",
   "metadata": {},
   "outputs": [],
   "source": [
    "datecodes = [\n",
    "    \"201801\", \"201802\", \"201803\", \"201804\", \"201805\", \"201805\", \"201806\",\n",
    "    \"201807\", \"201808\", \"201809\", \"201810\", \"201811\", \"201812\",\n",
    "    \"201901\", \"201902\", \"201903\", \"201904\", \"201905\", \"201905\", \"201906\",\n",
    "    \"201907\", \"201908\", \"201909\", \"201910\", \"201911\", \"201912\",\n",
    "    \"202001\", \"202002\", \"202003\", \"202004\", \"202005\", \"202005\", \"202006\",\n",
    "    \"202007\", \"202008\", \"202009\", \"202010\", \"202011\", \"202012\",\n",
    "    \"202101\", \"202102\", \"202103\", \"202104\", \"202105\", \"202105\", \"202106\",\n",
    "    \"202107\", \"202108\", \"202109\", \"202110\", \"202111\", \"202112\",\n",
    "    \"202201\", \"202202\", \"202203\", \"202204\", \"202205\", \"202205\", \"202206\",\n",
    "    \"202207\", \"202208\", \"202209\", \"202210\", \"202211\", \"202212\",\n",
    "    \"202301\", \"202302\", \"202303\", \"202304\", \"202305\", \"202305\", \"202306\"]\n",
    "\n",
    "\n",
    "tickers = ['CITY', 'LAZIO', 'ATM', 'ASR', 'AFC', 'ACM', 'INTER', 'BAR', 'JUV', 'PSG']\n",
    "#tickers = [\"BNB\", \"XRP\", \"SOL\", \"ADA\", \"DOGE\", \"TRX\", \"LINK\", \"TON\",\"AVAX\", \"MATIC\",\"DOT\",\"SHIB\"]\n",
    "tickers = [str(i) + \"_USDT\" for i in tickers]"
   ]
  },
  {
   "cell_type": "code",
   "execution_count": null,
   "id": "3da03e0e",
   "metadata": {},
   "outputs": [],
   "source": [
    "def pull_data(tickers, datecodes):\n",
    "    failed_instruments = []\n",
    "    for instrument in tickers:\n",
    "        temp_dict = {}\n",
    "        for datecode in datecodes:\n",
    "            try:\n",
    "                df = pd.read_csv(f\"https://download.gatedata.org/spot/deals/{datecode}/{instrument}-{datecode}.csv.gz\", compression='gzip', header=0, sep=',', quotechar='\"')\n",
    "                df.columns = [\"timestamp\", \"dealid\", \"price\", \"amount\", \"side\"]\n",
    "                df['timestamp'] = df['timestamp'].apply(lambda x: dt.datetime.fromtimestamp(x).strftime('%Y-%m-%d-%H-%M'))\n",
    "                df.to_csv(f\"./gateio_data/major_trade_data/{instrument}-{datecode}\")\n",
    "                time.sleep(2)\n",
    "                print(f\"{instrument}-{datecode} succeeded\")\n",
    "            except:\n",
    "                failed_instruments.append(instrument)\n",
    "                print(f\"{instrument}-{datecode} failed\")\n",
    "                time.sleep(2)\n",
    "    print(failed_instruments)\n",
    "    with open('./failed_downloads.txt', 'w') as outfile:\n",
    "        outfile.write('\\n'.join(str(i) for i in failed_instruments))"
   ]
  },
  {
   "cell_type": "code",
   "execution_count": null,
   "id": "0a729901",
   "metadata": {},
   "outputs": [],
   "source": [
    "pull_data(tickers, datecodes)"
   ]
  },
  {
   "cell_type": "code",
   "execution_count": null,
   "metadata": {},
   "outputs": [],
   "source": []
  }
 ],
 "metadata": {
  "kernelspec": {
   "display_name": "Python 3 (ipykernel)",
   "language": "python",
   "name": "python3"
  },
  "language_info": {
   "codemirror_mode": {
    "name": "ipython",
    "version": 3
   },
   "file_extension": ".py",
   "mimetype": "text/x-python",
   "name": "python",
   "nbconvert_exporter": "python",
   "pygments_lexer": "ipython3",
   "version": "3.9.10"
  }
 },
 "nbformat": 4,
 "nbformat_minor": 5
}
